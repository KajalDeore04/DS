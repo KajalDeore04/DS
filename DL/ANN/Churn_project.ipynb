{
 "cells": [
  {
   "cell_type": "code",
   "execution_count": 1,
   "id": "ed527b5c",
   "metadata": {},
   "outputs": [],
   "source": [
    "import pandas as pd"
   ]
  },
  {
   "cell_type": "code",
   "execution_count": 2,
   "id": "21db974d",
   "metadata": {},
   "outputs": [],
   "source": [
    "df = pd.read_csv(\"C:/Dataset-DS/Churn_Modelling.csv\")"
   ]
  },
  {
   "cell_type": "code",
   "execution_count": 3,
   "id": "6f70ab4a",
   "metadata": {},
   "outputs": [
    {
     "data": {
      "text/html": [
       "<div>\n",
       "<style scoped>\n",
       "    .dataframe tbody tr th:only-of-type {\n",
       "        vertical-align: middle;\n",
       "    }\n",
       "\n",
       "    .dataframe tbody tr th {\n",
       "        vertical-align: top;\n",
       "    }\n",
       "\n",
       "    .dataframe thead th {\n",
       "        text-align: right;\n",
       "    }\n",
       "</style>\n",
       "<table border=\"1\" class=\"dataframe\">\n",
       "  <thead>\n",
       "    <tr style=\"text-align: right;\">\n",
       "      <th></th>\n",
       "      <th>RowNumber</th>\n",
       "      <th>CustomerId</th>\n",
       "      <th>Surname</th>\n",
       "      <th>CreditScore</th>\n",
       "      <th>Geography</th>\n",
       "      <th>Gender</th>\n",
       "      <th>Age</th>\n",
       "      <th>Tenure</th>\n",
       "      <th>Balance</th>\n",
       "      <th>NumOfProducts</th>\n",
       "      <th>HasCrCard</th>\n",
       "      <th>IsActiveMember</th>\n",
       "      <th>EstimatedSalary</th>\n",
       "      <th>Exited</th>\n",
       "    </tr>\n",
       "  </thead>\n",
       "  <tbody>\n",
       "    <tr>\n",
       "      <th>0</th>\n",
       "      <td>1</td>\n",
       "      <td>15634602</td>\n",
       "      <td>Hargrave</td>\n",
       "      <td>619</td>\n",
       "      <td>France</td>\n",
       "      <td>Female</td>\n",
       "      <td>42</td>\n",
       "      <td>2</td>\n",
       "      <td>0.00</td>\n",
       "      <td>1</td>\n",
       "      <td>1</td>\n",
       "      <td>1</td>\n",
       "      <td>101348.88</td>\n",
       "      <td>1</td>\n",
       "    </tr>\n",
       "    <tr>\n",
       "      <th>1</th>\n",
       "      <td>2</td>\n",
       "      <td>15647311</td>\n",
       "      <td>Hill</td>\n",
       "      <td>608</td>\n",
       "      <td>Spain</td>\n",
       "      <td>Female</td>\n",
       "      <td>41</td>\n",
       "      <td>1</td>\n",
       "      <td>83807.86</td>\n",
       "      <td>1</td>\n",
       "      <td>0</td>\n",
       "      <td>1</td>\n",
       "      <td>112542.58</td>\n",
       "      <td>0</td>\n",
       "    </tr>\n",
       "    <tr>\n",
       "      <th>2</th>\n",
       "      <td>3</td>\n",
       "      <td>15619304</td>\n",
       "      <td>Onio</td>\n",
       "      <td>502</td>\n",
       "      <td>France</td>\n",
       "      <td>Female</td>\n",
       "      <td>42</td>\n",
       "      <td>8</td>\n",
       "      <td>159660.80</td>\n",
       "      <td>3</td>\n",
       "      <td>1</td>\n",
       "      <td>0</td>\n",
       "      <td>113931.57</td>\n",
       "      <td>1</td>\n",
       "    </tr>\n",
       "    <tr>\n",
       "      <th>3</th>\n",
       "      <td>4</td>\n",
       "      <td>15701354</td>\n",
       "      <td>Boni</td>\n",
       "      <td>699</td>\n",
       "      <td>France</td>\n",
       "      <td>Female</td>\n",
       "      <td>39</td>\n",
       "      <td>1</td>\n",
       "      <td>0.00</td>\n",
       "      <td>2</td>\n",
       "      <td>0</td>\n",
       "      <td>0</td>\n",
       "      <td>93826.63</td>\n",
       "      <td>0</td>\n",
       "    </tr>\n",
       "    <tr>\n",
       "      <th>4</th>\n",
       "      <td>5</td>\n",
       "      <td>15737888</td>\n",
       "      <td>Mitchell</td>\n",
       "      <td>850</td>\n",
       "      <td>Spain</td>\n",
       "      <td>Female</td>\n",
       "      <td>43</td>\n",
       "      <td>2</td>\n",
       "      <td>125510.82</td>\n",
       "      <td>1</td>\n",
       "      <td>1</td>\n",
       "      <td>1</td>\n",
       "      <td>79084.10</td>\n",
       "      <td>0</td>\n",
       "    </tr>\n",
       "  </tbody>\n",
       "</table>\n",
       "</div>"
      ],
      "text/plain": [
       "   RowNumber  CustomerId   Surname  CreditScore Geography  Gender  Age  \\\n",
       "0          1    15634602  Hargrave          619    France  Female   42   \n",
       "1          2    15647311      Hill          608     Spain  Female   41   \n",
       "2          3    15619304      Onio          502    France  Female   42   \n",
       "3          4    15701354      Boni          699    France  Female   39   \n",
       "4          5    15737888  Mitchell          850     Spain  Female   43   \n",
       "\n",
       "   Tenure    Balance  NumOfProducts  HasCrCard  IsActiveMember  \\\n",
       "0       2       0.00              1          1               1   \n",
       "1       1   83807.86              1          0               1   \n",
       "2       8  159660.80              3          1               0   \n",
       "3       1       0.00              2          0               0   \n",
       "4       2  125510.82              1          1               1   \n",
       "\n",
       "   EstimatedSalary  Exited  \n",
       "0        101348.88       1  \n",
       "1        112542.58       0  \n",
       "2        113931.57       1  \n",
       "3         93826.63       0  \n",
       "4         79084.10       0  "
      ]
     },
     "execution_count": 3,
     "metadata": {},
     "output_type": "execute_result"
    }
   ],
   "source": [
    "df.head()"
   ]
  },
  {
   "cell_type": "code",
   "execution_count": 4,
   "id": "ab6c0957",
   "metadata": {},
   "outputs": [],
   "source": [
    "df.drop(columns = ['RowNumber','CustomerId','Surname'],inplace=True)"
   ]
  },
  {
   "cell_type": "code",
   "execution_count": 5,
   "id": "264bb093",
   "metadata": {},
   "outputs": [],
   "source": [
    "df = pd.get_dummies(df,columns=['Geography','Gender'],drop_first=True)"
   ]
  },
  {
   "cell_type": "code",
   "execution_count": 6,
   "id": "c19f0f6f",
   "metadata": {},
   "outputs": [],
   "source": [
    "X = df.drop(columns=['Exited'])\n",
    "y = df['Exited'].values\n",
    "\n",
    "from sklearn.model_selection import train_test_split\n",
    "X_train,X_test,y_train,y_test = train_test_split(X,y,test_size=0.2,random_state=0)"
   ]
  },
  {
   "cell_type": "code",
   "execution_count": 7,
   "id": "b32b6f99",
   "metadata": {},
   "outputs": [],
   "source": [
    "from sklearn.preprocessing import StandardScaler\n",
    "scaler = StandardScaler()\n",
    "\n",
    "X_train_trf = scaler.fit_transform(X_train)\n",
    "X_test_trf = scaler.transform(X_test)"
   ]
  },
  {
   "cell_type": "code",
   "execution_count": 9,
   "id": "6348814d",
   "metadata": {},
   "outputs": [],
   "source": [
    "import tensorflow\n",
    "from tensorflow import keras\n",
    "from tensorflow.keras import Sequential\n",
    "from tensorflow.keras.layers import Dense"
   ]
  },
  {
   "cell_type": "code",
   "execution_count": 91,
   "id": "fefe2acb",
   "metadata": {},
   "outputs": [
    {
     "name": "stderr",
     "output_type": "stream",
     "text": [
      "C:\\Users\\91755\\AppData\\Roaming\\Python\\Python312\\site-packages\\keras\\src\\layers\\core\\dense.py:92: UserWarning: Do not pass an `input_shape`/`input_dim` argument to a layer. When using Sequential models, prefer using an `Input(shape)` object as the first layer in the model instead.\n",
      "  super().__init__(activity_regularizer=activity_regularizer, **kwargs)\n"
     ]
    }
   ],
   "source": [
    "model = Sequential(\n",
    "    [\n",
    "        Dense(11, activation='relu', input_dim = 11),\n",
    "        Dense(11, activation='relu', input_dim = 11),\n",
    "        Dense(1, activation='sigmoid')\n",
    "    ]\n",
    ")"
   ]
  },
  {
   "cell_type": "code",
   "execution_count": 92,
   "id": "f6d6acb3",
   "metadata": {},
   "outputs": [
    {
     "data": {
      "text/html": [
       "<pre style=\"white-space:pre;overflow-x:auto;line-height:normal;font-family:Menlo,'DejaVu Sans Mono',consolas,'Courier New',monospace\"><span style=\"font-weight: bold\">Model: \"sequential_4\"</span>\n",
       "</pre>\n"
      ],
      "text/plain": [
       "\u001b[1mModel: \"sequential_4\"\u001b[0m\n"
      ]
     },
     "metadata": {},
     "output_type": "display_data"
    },
    {
     "data": {
      "text/html": [
       "<pre style=\"white-space:pre;overflow-x:auto;line-height:normal;font-family:Menlo,'DejaVu Sans Mono',consolas,'Courier New',monospace\">┏━━━━━━━━━━━━━━━━━━━━━━━━━━━━━━━━━┳━━━━━━━━━━━━━━━━━━━━━━━━┳━━━━━━━━━━━━━━━┓\n",
       "┃<span style=\"font-weight: bold\"> Layer (type)                    </span>┃<span style=\"font-weight: bold\"> Output Shape           </span>┃<span style=\"font-weight: bold\">       Param # </span>┃\n",
       "┡━━━━━━━━━━━━━━━━━━━━━━━━━━━━━━━━━╇━━━━━━━━━━━━━━━━━━━━━━━━╇━━━━━━━━━━━━━━━┩\n",
       "│ dense_10 (<span style=\"color: #0087ff; text-decoration-color: #0087ff\">Dense</span>)                │ (<span style=\"color: #00d7ff; text-decoration-color: #00d7ff\">None</span>, <span style=\"color: #00af00; text-decoration-color: #00af00\">11</span>)             │           <span style=\"color: #00af00; text-decoration-color: #00af00\">132</span> │\n",
       "├─────────────────────────────────┼────────────────────────┼───────────────┤\n",
       "│ dense_11 (<span style=\"color: #0087ff; text-decoration-color: #0087ff\">Dense</span>)                │ (<span style=\"color: #00d7ff; text-decoration-color: #00d7ff\">None</span>, <span style=\"color: #00af00; text-decoration-color: #00af00\">11</span>)             │           <span style=\"color: #00af00; text-decoration-color: #00af00\">132</span> │\n",
       "├─────────────────────────────────┼────────────────────────┼───────────────┤\n",
       "│ dense_12 (<span style=\"color: #0087ff; text-decoration-color: #0087ff\">Dense</span>)                │ (<span style=\"color: #00d7ff; text-decoration-color: #00d7ff\">None</span>, <span style=\"color: #00af00; text-decoration-color: #00af00\">1</span>)              │            <span style=\"color: #00af00; text-decoration-color: #00af00\">12</span> │\n",
       "└─────────────────────────────────┴────────────────────────┴───────────────┘\n",
       "</pre>\n"
      ],
      "text/plain": [
       "┏━━━━━━━━━━━━━━━━━━━━━━━━━━━━━━━━━┳━━━━━━━━━━━━━━━━━━━━━━━━┳━━━━━━━━━━━━━━━┓\n",
       "┃\u001b[1m \u001b[0m\u001b[1mLayer (type)                   \u001b[0m\u001b[1m \u001b[0m┃\u001b[1m \u001b[0m\u001b[1mOutput Shape          \u001b[0m\u001b[1m \u001b[0m┃\u001b[1m \u001b[0m\u001b[1m      Param #\u001b[0m\u001b[1m \u001b[0m┃\n",
       "┡━━━━━━━━━━━━━━━━━━━━━━━━━━━━━━━━━╇━━━━━━━━━━━━━━━━━━━━━━━━╇━━━━━━━━━━━━━━━┩\n",
       "│ dense_10 (\u001b[38;5;33mDense\u001b[0m)                │ (\u001b[38;5;45mNone\u001b[0m, \u001b[38;5;34m11\u001b[0m)             │           \u001b[38;5;34m132\u001b[0m │\n",
       "├─────────────────────────────────┼────────────────────────┼───────────────┤\n",
       "│ dense_11 (\u001b[38;5;33mDense\u001b[0m)                │ (\u001b[38;5;45mNone\u001b[0m, \u001b[38;5;34m11\u001b[0m)             │           \u001b[38;5;34m132\u001b[0m │\n",
       "├─────────────────────────────────┼────────────────────────┼───────────────┤\n",
       "│ dense_12 (\u001b[38;5;33mDense\u001b[0m)                │ (\u001b[38;5;45mNone\u001b[0m, \u001b[38;5;34m1\u001b[0m)              │            \u001b[38;5;34m12\u001b[0m │\n",
       "└─────────────────────────────────┴────────────────────────┴───────────────┘\n"
      ]
     },
     "metadata": {},
     "output_type": "display_data"
    },
    {
     "data": {
      "text/html": [
       "<pre style=\"white-space:pre;overflow-x:auto;line-height:normal;font-family:Menlo,'DejaVu Sans Mono',consolas,'Courier New',monospace\"><span style=\"font-weight: bold\"> Total params: </span><span style=\"color: #00af00; text-decoration-color: #00af00\">276</span> (1.08 KB)\n",
       "</pre>\n"
      ],
      "text/plain": [
       "\u001b[1m Total params: \u001b[0m\u001b[38;5;34m276\u001b[0m (1.08 KB)\n"
      ]
     },
     "metadata": {},
     "output_type": "display_data"
    },
    {
     "data": {
      "text/html": [
       "<pre style=\"white-space:pre;overflow-x:auto;line-height:normal;font-family:Menlo,'DejaVu Sans Mono',consolas,'Courier New',monospace\"><span style=\"font-weight: bold\"> Trainable params: </span><span style=\"color: #00af00; text-decoration-color: #00af00\">276</span> (1.08 KB)\n",
       "</pre>\n"
      ],
      "text/plain": [
       "\u001b[1m Trainable params: \u001b[0m\u001b[38;5;34m276\u001b[0m (1.08 KB)\n"
      ]
     },
     "metadata": {},
     "output_type": "display_data"
    },
    {
     "data": {
      "text/html": [
       "<pre style=\"white-space:pre;overflow-x:auto;line-height:normal;font-family:Menlo,'DejaVu Sans Mono',consolas,'Courier New',monospace\"><span style=\"font-weight: bold\"> Non-trainable params: </span><span style=\"color: #00af00; text-decoration-color: #00af00\">0</span> (0.00 B)\n",
       "</pre>\n"
      ],
      "text/plain": [
       "\u001b[1m Non-trainable params: \u001b[0m\u001b[38;5;34m0\u001b[0m (0.00 B)\n"
      ]
     },
     "metadata": {},
     "output_type": "display_data"
    }
   ],
   "source": [
    "model.summary()"
   ]
  },
  {
   "cell_type": "code",
   "execution_count": 108,
   "id": "974ddc0d",
   "metadata": {},
   "outputs": [],
   "source": [
    "model.compile(loss='binary_crossentropy', optimizer='Adam', metrics=['accuracy'])"
   ]
  },
  {
   "cell_type": "code",
   "execution_count": 109,
   "id": "c030e6ad",
   "metadata": {},
   "outputs": [
    {
     "name": "stdout",
     "output_type": "stream",
     "text": [
      "Epoch 1/40\n",
      "\u001b[1m200/200\u001b[0m \u001b[32m━━━━━━━━━━━━━━━━━━━━\u001b[0m\u001b[37m\u001b[0m \u001b[1m2s\u001b[0m 5ms/step - accuracy: 0.7958 - loss: 9257.2891 - val_accuracy: 0.7969 - val_loss: 9260.8525\n",
      "Epoch 2/40\n",
      "\u001b[1m200/200\u001b[0m \u001b[32m━━━━━━━━━━━━━━━━━━━━\u001b[0m\u001b[37m\u001b[0m \u001b[1m1s\u001b[0m 3ms/step - accuracy: 0.7958 - loss: 8809.8809 - val_accuracy: 0.7969 - val_loss: 8830.9277\n",
      "Epoch 3/40\n",
      "\u001b[1m200/200\u001b[0m \u001b[32m━━━━━━━━━━━━━━━━━━━━\u001b[0m\u001b[37m\u001b[0m \u001b[1m1s\u001b[0m 2ms/step - accuracy: 0.7958 - loss: 8384.5186 - val_accuracy: 0.7969 - val_loss: 8411.8027\n",
      "Epoch 4/40\n",
      "\u001b[1m200/200\u001b[0m \u001b[32m━━━━━━━━━━━━━━━━━━━━\u001b[0m\u001b[37m\u001b[0m \u001b[1m0s\u001b[0m 2ms/step - accuracy: 0.7958 - loss: 7976.9082 - val_accuracy: 0.7969 - val_loss: 8009.5537\n",
      "Epoch 5/40\n",
      "\u001b[1m200/200\u001b[0m \u001b[32m━━━━━━━━━━━━━━━━━━━━\u001b[0m\u001b[37m\u001b[0m \u001b[1m0s\u001b[0m 2ms/step - accuracy: 0.7958 - loss: 7571.4487 - val_accuracy: 0.7969 - val_loss: 7593.1362\n",
      "Epoch 6/40\n",
      "\u001b[1m200/200\u001b[0m \u001b[32m━━━━━━━━━━━━━━━━━━━━\u001b[0m\u001b[37m\u001b[0m \u001b[1m1s\u001b[0m 4ms/step - accuracy: 0.7958 - loss: 7147.8555 - val_accuracy: 0.7969 - val_loss: 7162.4692\n",
      "Epoch 7/40\n",
      "\u001b[1m200/200\u001b[0m \u001b[32m━━━━━━━━━━━━━━━━━━━━\u001b[0m\u001b[37m\u001b[0m \u001b[1m1s\u001b[0m 3ms/step - accuracy: 0.7958 - loss: 6723.2920 - val_accuracy: 0.7969 - val_loss: 6736.0942\n",
      "Epoch 8/40\n",
      "\u001b[1m200/200\u001b[0m \u001b[32m━━━━━━━━━━━━━━━━━━━━\u001b[0m\u001b[37m\u001b[0m \u001b[1m0s\u001b[0m 2ms/step - accuracy: 0.7958 - loss: 6308.0986 - val_accuracy: 0.7969 - val_loss: 6323.7783\n",
      "Epoch 9/40\n",
      "\u001b[1m200/200\u001b[0m \u001b[32m━━━━━━━━━━━━━━━━━━━━\u001b[0m\u001b[37m\u001b[0m \u001b[1m0s\u001b[0m 2ms/step - accuracy: 0.7958 - loss: 5894.9131 - val_accuracy: 0.7969 - val_loss: 5899.7383\n",
      "Epoch 10/40\n",
      "\u001b[1m200/200\u001b[0m \u001b[32m━━━━━━━━━━━━━━━━━━━━\u001b[0m\u001b[37m\u001b[0m \u001b[1m1s\u001b[0m 4ms/step - accuracy: 0.7958 - loss: 5484.2036 - val_accuracy: 0.7969 - val_loss: 5487.5137\n",
      "Epoch 11/40\n",
      "\u001b[1m200/200\u001b[0m \u001b[32m━━━━━━━━━━━━━━━━━━━━\u001b[0m\u001b[37m\u001b[0m \u001b[1m1s\u001b[0m 2ms/step - accuracy: 0.7958 - loss: 5084.2339 - val_accuracy: 0.7969 - val_loss: 5082.4365\n",
      "Epoch 12/40\n",
      "\u001b[1m200/200\u001b[0m \u001b[32m━━━━━━━━━━━━━━━━━━━━\u001b[0m\u001b[37m\u001b[0m \u001b[1m1s\u001b[0m 3ms/step - accuracy: 0.7958 - loss: 4694.8237 - val_accuracy: 0.7969 - val_loss: 4691.3574\n",
      "Epoch 13/40\n",
      "\u001b[1m200/200\u001b[0m \u001b[32m━━━━━━━━━━━━━━━━━━━━\u001b[0m\u001b[37m\u001b[0m \u001b[1m0s\u001b[0m 2ms/step - accuracy: 0.7958 - loss: 4313.5654 - val_accuracy: 0.7969 - val_loss: 4305.8330\n",
      "Epoch 14/40\n",
      "\u001b[1m200/200\u001b[0m \u001b[32m━━━━━━━━━━━━━━━━━━━━\u001b[0m\u001b[37m\u001b[0m \u001b[1m0s\u001b[0m 2ms/step - accuracy: 0.7958 - loss: 3940.3635 - val_accuracy: 0.7969 - val_loss: 3923.8394\n",
      "Epoch 15/40\n",
      "\u001b[1m200/200\u001b[0m \u001b[32m━━━━━━━━━━━━━━━━━━━━\u001b[0m\u001b[37m\u001b[0m \u001b[1m0s\u001b[0m 2ms/step - accuracy: 0.7958 - loss: 3575.2649 - val_accuracy: 0.7969 - val_loss: 3546.1492\n",
      "Epoch 16/40\n",
      "\u001b[1m200/200\u001b[0m \u001b[32m━━━━━━━━━━━━━━━━━━━━\u001b[0m\u001b[37m\u001b[0m \u001b[1m0s\u001b[0m 2ms/step - accuracy: 0.7958 - loss: 3215.5894 - val_accuracy: 0.7969 - val_loss: 3183.8687\n",
      "Epoch 17/40\n",
      "\u001b[1m200/200\u001b[0m \u001b[32m━━━━━━━━━━━━━━━━━━━━\u001b[0m\u001b[37m\u001b[0m \u001b[1m0s\u001b[0m 2ms/step - accuracy: 0.7958 - loss: 2863.4639 - val_accuracy: 0.7969 - val_loss: 2824.3857\n",
      "Epoch 18/40\n",
      "\u001b[1m200/200\u001b[0m \u001b[32m━━━━━━━━━━━━━━━━━━━━\u001b[0m\u001b[37m\u001b[0m \u001b[1m0s\u001b[0m 2ms/step - accuracy: 0.7958 - loss: 2519.6382 - val_accuracy: 0.7969 - val_loss: 2467.3501\n",
      "Epoch 19/40\n",
      "\u001b[1m200/200\u001b[0m \u001b[32m━━━━━━━━━━━━━━━━━━━━\u001b[0m\u001b[37m\u001b[0m \u001b[1m0s\u001b[0m 2ms/step - accuracy: 0.7958 - loss: 2183.0891 - val_accuracy: 0.7969 - val_loss: 2118.7397\n",
      "Epoch 20/40\n",
      "\u001b[1m200/200\u001b[0m \u001b[32m━━━━━━━━━━━━━━━━━━━━\u001b[0m\u001b[37m\u001b[0m \u001b[1m0s\u001b[0m 2ms/step - accuracy: 0.7958 - loss: 1852.1914 - val_accuracy: 0.7969 - val_loss: 1776.8070\n",
      "Epoch 21/40\n",
      "\u001b[1m200/200\u001b[0m \u001b[32m━━━━━━━━━━━━━━━━━━━━\u001b[0m\u001b[37m\u001b[0m \u001b[1m1s\u001b[0m 3ms/step - accuracy: 0.7958 - loss: 1525.1899 - val_accuracy: 0.7969 - val_loss: 1436.1123\n",
      "Epoch 22/40\n",
      "\u001b[1m200/200\u001b[0m \u001b[32m━━━━━━━━━━━━━━━━━━━━\u001b[0m\u001b[37m\u001b[0m \u001b[1m1s\u001b[0m 3ms/step - accuracy: 0.8003 - loss: 1202.7950 - val_accuracy: 0.7994 - val_loss: 1100.0587\n",
      "Epoch 23/40\n",
      "\u001b[1m200/200\u001b[0m \u001b[32m━━━━━━━━━━━━━━━━━━━━\u001b[0m\u001b[37m\u001b[0m \u001b[1m0s\u001b[0m 2ms/step - accuracy: 0.8019 - loss: 883.9855 - val_accuracy: 0.7969 - val_loss: 768.3828\n",
      "Epoch 24/40\n",
      "\u001b[1m200/200\u001b[0m \u001b[32m━━━━━━━━━━━━━━━━━━━━\u001b[0m\u001b[37m\u001b[0m \u001b[1m1s\u001b[0m 3ms/step - accuracy: 0.8031 - loss: 568.0234 - val_accuracy: 0.7962 - val_loss: 429.6636\n",
      "Epoch 25/40\n",
      "\u001b[1m200/200\u001b[0m \u001b[32m━━━━━━━━━━━━━━━━━━━━\u001b[0m\u001b[37m\u001b[0m \u001b[1m0s\u001b[0m 2ms/step - accuracy: 0.7869 - loss: 260.0521 - val_accuracy: 0.7600 - val_loss: 136.8960\n",
      "Epoch 26/40\n",
      "\u001b[1m200/200\u001b[0m \u001b[32m━━━━━━━━━━━━━━━━━━━━\u001b[0m\u001b[37m\u001b[0m \u001b[1m0s\u001b[0m 2ms/step - accuracy: 0.7077 - loss: 46.7858 - val_accuracy: 0.6988 - val_loss: 16.3735\n",
      "Epoch 27/40\n",
      "\u001b[1m200/200\u001b[0m \u001b[32m━━━━━━━━━━━━━━━━━━━━\u001b[0m\u001b[37m\u001b[0m \u001b[1m0s\u001b[0m 2ms/step - accuracy: 0.6933 - loss: 12.9989 - val_accuracy: 0.6756 - val_loss: 11.7425\n",
      "Epoch 28/40\n",
      "\u001b[1m200/200\u001b[0m \u001b[32m━━━━━━━━━━━━━━━━━━━━\u001b[0m\u001b[37m\u001b[0m \u001b[1m0s\u001b[0m 2ms/step - accuracy: 0.6891 - loss: 9.7270 - val_accuracy: 0.7131 - val_loss: 8.9629\n",
      "Epoch 29/40\n",
      "\u001b[1m200/200\u001b[0m \u001b[32m━━━━━━━━━━━━━━━━━━━━\u001b[0m\u001b[37m\u001b[0m \u001b[1m0s\u001b[0m 2ms/step - accuracy: 0.6963 - loss: 7.1130 - val_accuracy: 0.7144 - val_loss: 6.3080\n",
      "Epoch 30/40\n",
      "\u001b[1m200/200\u001b[0m \u001b[32m━━━━━━━━━━━━━━━━━━━━\u001b[0m\u001b[37m\u001b[0m \u001b[1m0s\u001b[0m 2ms/step - accuracy: 0.7016 - loss: 5.2438 - val_accuracy: 0.6969 - val_loss: 4.1892\n",
      "Epoch 31/40\n",
      "\u001b[1m200/200\u001b[0m \u001b[32m━━━━━━━━━━━━━━━━━━━━\u001b[0m\u001b[37m\u001b[0m \u001b[1m1s\u001b[0m 2ms/step - accuracy: 0.7055 - loss: 3.3923 - val_accuracy: 0.7331 - val_loss: 2.8537\n",
      "Epoch 32/40\n",
      "\u001b[1m200/200\u001b[0m \u001b[32m━━━━━━━━━━━━━━━━━━━━\u001b[0m\u001b[37m\u001b[0m \u001b[1m0s\u001b[0m 2ms/step - accuracy: 0.7180 - loss: 2.0533 - val_accuracy: 0.7387 - val_loss: 1.5444\n",
      "Epoch 33/40\n",
      "\u001b[1m200/200\u001b[0m \u001b[32m━━━━━━━━━━━━━━━━━━━━\u001b[0m\u001b[37m\u001b[0m \u001b[1m0s\u001b[0m 2ms/step - accuracy: 0.7186 - loss: 1.2457 - val_accuracy: 0.7625 - val_loss: 1.0800\n",
      "Epoch 34/40\n",
      "\u001b[1m200/200\u001b[0m \u001b[32m━━━━━━━━━━━━━━━━━━━━\u001b[0m\u001b[37m\u001b[0m \u001b[1m0s\u001b[0m 2ms/step - accuracy: 0.7297 - loss: 1.4056 - val_accuracy: 0.7775 - val_loss: 0.7409\n",
      "Epoch 35/40\n",
      "\u001b[1m200/200\u001b[0m \u001b[32m━━━━━━━━━━━━━━━━━━━━\u001b[0m\u001b[37m\u001b[0m \u001b[1m0s\u001b[0m 2ms/step - accuracy: 0.7311 - loss: 1.0186 - val_accuracy: 0.7969 - val_loss: 3.6596\n",
      "Epoch 36/40\n",
      "\u001b[1m200/200\u001b[0m \u001b[32m━━━━━━━━━━━━━━━━━━━━\u001b[0m\u001b[37m\u001b[0m \u001b[1m0s\u001b[0m 2ms/step - accuracy: 0.7372 - loss: 1.1648 - val_accuracy: 0.7812 - val_loss: 0.6415\n",
      "Epoch 37/40\n",
      "\u001b[1m200/200\u001b[0m \u001b[32m━━━━━━━━━━━━━━━━━━━━\u001b[0m\u001b[37m\u001b[0m \u001b[1m0s\u001b[0m 2ms/step - accuracy: 0.7450 - loss: 0.8803 - val_accuracy: 0.7887 - val_loss: 1.2032\n",
      "Epoch 38/40\n",
      "\u001b[1m200/200\u001b[0m \u001b[32m━━━━━━━━━━━━━━━━━━━━\u001b[0m\u001b[37m\u001b[0m \u001b[1m1s\u001b[0m 3ms/step - accuracy: 0.7500 - loss: 0.7765 - val_accuracy: 0.7962 - val_loss: 1.8064\n",
      "Epoch 39/40\n",
      "\u001b[1m200/200\u001b[0m \u001b[32m━━━━━━━━━━━━━━━━━━━━\u001b[0m\u001b[37m\u001b[0m \u001b[1m0s\u001b[0m 2ms/step - accuracy: 0.7433 - loss: 1.0945 - val_accuracy: 0.7731 - val_loss: 0.5614\n",
      "Epoch 40/40\n",
      "\u001b[1m200/200\u001b[0m \u001b[32m━━━━━━━━━━━━━━━━━━━━\u001b[0m\u001b[37m\u001b[0m \u001b[1m0s\u001b[0m 2ms/step - accuracy: 0.7411 - loss: 0.9646 - val_accuracy: 0.7812 - val_loss: 1.1798\n"
     ]
    }
   ],
   "source": [
    "history = model.fit(X_train_trf, y_train, epochs=40, validation_split=0.2)"
   ]
  },
  {
   "cell_type": "code",
   "execution_count": 110,
   "id": "9ce7e93d",
   "metadata": {},
   "outputs": [
    {
     "data": {
      "text/plain": [
       "[array([[ -4.3567877 ,   6.428977  ,   2.5832605 ,  -4.674581  ,\n",
       "           6.8891673 ,  -3.876285  ,  -4.6853547 ,   2.1931138 ,\n",
       "           3.9919543 ,  -2.399145  ,   4.215453  ],\n",
       "        [-10.226085  , -10.702903  , -11.673688  , -11.387991  ,\n",
       "          -7.8392186 , -12.164948  , -11.731505  , -11.22314   ,\n",
       "         -10.593385  , -11.063931  ,  -9.828837  ],\n",
       "        [  4.909439  ,  -1.8576146 ,  -2.7498617 ,  -0.196681  ,\n",
       "          -1.044971  ,  -2.3432505 ,  -1.311082  ,  -1.91265   ,\n",
       "           4.940422  ,   6.221919  ,   5.250081  ],\n",
       "        [ -8.742322  ,  -7.694166  ,  -8.556512  ,  -8.226073  ,\n",
       "           7.163321  ,  -8.010334  ,  -8.3625345 ,  -6.707892  ,\n",
       "          -8.070706  ,  -8.672695  ,  -8.198073  ],\n",
       "        [  5.611962  ,   7.3847594 ,   4.8198    ,   7.8151655 ,\n",
       "          -4.992985  ,   6.1072955 ,   6.9003377 ,   7.08868   ,\n",
       "           5.6396556 ,   7.0416245 ,   6.1454606 ],\n",
       "        [ -1.7934822 ,  -2.0624452 ,   0.33444437,  -2.195018  ,\n",
       "           3.1978214 ,  -2.6720893 ,   1.3815774 ,   4.56959   ,\n",
       "           5.1335144 ,  -2.3463027 ,   2.4949372 ],\n",
       "        [  0.9463476 ,   8.258151  ,   7.1491446 ,   5.693909  ,\n",
       "           9.427591  ,  -0.24269989,   4.2008014 ,   7.660861  ,\n",
       "           6.318627  ,   3.4146376 ,   6.380238  ],\n",
       "        [ -6.1959276 ,   5.102048  ,  -2.8665075 ,   3.8943503 ,\n",
       "           6.4303226 ,   3.5327797 ,   1.1312853 ,   4.693833  ,\n",
       "          -4.728975  ,  -3.5227015 ,   3.568763  ],\n",
       "        [ -8.636013  ,  -6.9528375 ,  -8.78061   ,  -4.800451  ,\n",
       "           3.3712661 ,  -8.560144  ,  -7.9935374 ,   0.3142239 ,\n",
       "          -8.741797  ,  -8.631187  ,  -9.162984  ],\n",
       "        [  6.7209992 ,  -0.4009479 ,   4.493621  ,  -4.8181677 ,\n",
       "          -7.475517  ,   5.9315615 ,   5.6920943 ,  -7.298699  ,\n",
       "           6.427624  ,   5.8331795 ,   6.7417006 ],\n",
       "        [  3.9153996 ,   6.470118  ,   6.678079  ,   6.2622266 ,\n",
       "           2.410925  ,   7.485504  ,   7.963865  ,   5.619831  ,\n",
       "           1.1742457 ,   4.894538  ,   5.336129  ]], dtype=float32),\n",
       " array([8.498462, 8.310468, 8.381849, 8.260308, 8.332217, 8.293099,\n",
       "        8.225739, 8.235073, 8.183815, 8.304553, 8.476901], dtype=float32)]"
      ]
     },
     "execution_count": 110,
     "metadata": {},
     "output_type": "execute_result"
    }
   ],
   "source": [
    "model.layers[0].get_weights()"
   ]
  },
  {
   "cell_type": "code",
   "execution_count": 111,
   "id": "9eb038fd",
   "metadata": {},
   "outputs": [
    {
     "name": "stdout",
     "output_type": "stream",
     "text": [
      "\u001b[1m63/63\u001b[0m \u001b[32m━━━━━━━━━━━━━━━━━━━━\u001b[0m\u001b[37m\u001b[0m \u001b[1m0s\u001b[0m 2ms/step  \n"
     ]
    }
   ],
   "source": [
    "y_log = model.predict(X_test_trf)"
   ]
  },
  {
   "cell_type": "code",
   "execution_count": 112,
   "id": "0be6b53a",
   "metadata": {},
   "outputs": [],
   "source": [
    "import numpy as np"
   ]
  },
  {
   "cell_type": "code",
   "execution_count": 113,
   "id": "75a12506",
   "metadata": {},
   "outputs": [],
   "source": [
    "y_pred = np.where(y_log > 0.5, 1 , 0)"
   ]
  },
  {
   "cell_type": "code",
   "execution_count": 114,
   "id": "46a56219",
   "metadata": {},
   "outputs": [
    {
     "data": {
      "text/plain": [
       "0.7935"
      ]
     },
     "execution_count": 114,
     "metadata": {},
     "output_type": "execute_result"
    }
   ],
   "source": [
    "from sklearn.metrics import accuracy_score\n",
    "accuracy_score(y_test, y_pred)"
   ]
  },
  {
   "cell_type": "code",
   "execution_count": 115,
   "id": "71b5e1ab",
   "metadata": {},
   "outputs": [],
   "source": [
    "import matplotlib.pyplot as plt"
   ]
  },
  {
   "cell_type": "code",
   "execution_count": 116,
   "id": "c18b9357",
   "metadata": {},
   "outputs": [
    {
     "data": {
      "text/plain": [
       "{'accuracy': [0.7957812547683716,\n",
       "  0.7957812547683716,\n",
       "  0.7957812547683716,\n",
       "  0.7957812547683716,\n",
       "  0.7957812547683716,\n",
       "  0.7957812547683716,\n",
       "  0.7957812547683716,\n",
       "  0.7957812547683716,\n",
       "  0.7957812547683716,\n",
       "  0.7957812547683716,\n",
       "  0.7957812547683716,\n",
       "  0.7957812547683716,\n",
       "  0.7957812547683716,\n",
       "  0.7957812547683716,\n",
       "  0.7957812547683716,\n",
       "  0.7957812547683716,\n",
       "  0.7957812547683716,\n",
       "  0.7957812547683716,\n",
       "  0.7957812547683716,\n",
       "  0.7957812547683716,\n",
       "  0.7957812547683716,\n",
       "  0.8003125190734863,\n",
       "  0.8018749952316284,\n",
       "  0.8031250238418579,\n",
       "  0.7868750095367432,\n",
       "  0.7076562643051147,\n",
       "  0.6932812333106995,\n",
       "  0.6890624761581421,\n",
       "  0.6962500214576721,\n",
       "  0.7015625238418579,\n",
       "  0.7054687738418579,\n",
       "  0.717968761920929,\n",
       "  0.7185937762260437,\n",
       "  0.729687511920929,\n",
       "  0.7310937643051147,\n",
       "  0.7371875047683716,\n",
       "  0.7450000047683716,\n",
       "  0.75,\n",
       "  0.7432812452316284,\n",
       "  0.7410937547683716],\n",
       " 'loss': [9257.2890625,\n",
       "  8809.880859375,\n",
       "  8384.5185546875,\n",
       "  7976.908203125,\n",
       "  7571.44873046875,\n",
       "  7147.85546875,\n",
       "  6723.2919921875,\n",
       "  6308.0986328125,\n",
       "  5894.9130859375,\n",
       "  5484.20361328125,\n",
       "  5084.23388671875,\n",
       "  4694.82373046875,\n",
       "  4313.5654296875,\n",
       "  3940.363525390625,\n",
       "  3575.264892578125,\n",
       "  3215.58935546875,\n",
       "  2863.4638671875,\n",
       "  2519.63818359375,\n",
       "  2183.089111328125,\n",
       "  1852.19140625,\n",
       "  1525.18994140625,\n",
       "  1202.7950439453125,\n",
       "  883.9855346679688,\n",
       "  568.0233764648438,\n",
       "  260.0520935058594,\n",
       "  46.78583908081055,\n",
       "  12.998885154724121,\n",
       "  9.727029800415039,\n",
       "  7.113027572631836,\n",
       "  5.243815898895264,\n",
       "  3.392301559448242,\n",
       "  2.0532712936401367,\n",
       "  1.2456622123718262,\n",
       "  1.4055523872375488,\n",
       "  1.018583059310913,\n",
       "  1.1647990942001343,\n",
       "  0.8803097605705261,\n",
       "  0.7764696478843689,\n",
       "  1.0944983959197998,\n",
       "  0.9646499752998352],\n",
       " 'val_accuracy': [0.796875,\n",
       "  0.796875,\n",
       "  0.796875,\n",
       "  0.796875,\n",
       "  0.796875,\n",
       "  0.796875,\n",
       "  0.796875,\n",
       "  0.796875,\n",
       "  0.796875,\n",
       "  0.796875,\n",
       "  0.796875,\n",
       "  0.796875,\n",
       "  0.796875,\n",
       "  0.796875,\n",
       "  0.796875,\n",
       "  0.796875,\n",
       "  0.796875,\n",
       "  0.796875,\n",
       "  0.796875,\n",
       "  0.796875,\n",
       "  0.796875,\n",
       "  0.7993749976158142,\n",
       "  0.796875,\n",
       "  0.7962499856948853,\n",
       "  0.7599999904632568,\n",
       "  0.6987500190734863,\n",
       "  0.6756250262260437,\n",
       "  0.7131249904632568,\n",
       "  0.7143750190734863,\n",
       "  0.6968749761581421,\n",
       "  0.7331249713897705,\n",
       "  0.7387499809265137,\n",
       "  0.762499988079071,\n",
       "  0.7774999737739563,\n",
       "  0.796875,\n",
       "  0.78125,\n",
       "  0.7887499928474426,\n",
       "  0.7962499856948853,\n",
       "  0.7731249928474426,\n",
       "  0.78125],\n",
       " 'val_loss': [9260.8525390625,\n",
       "  8830.927734375,\n",
       "  8411.802734375,\n",
       "  8009.5537109375,\n",
       "  7593.13623046875,\n",
       "  7162.46923828125,\n",
       "  6736.09423828125,\n",
       "  6323.7783203125,\n",
       "  5899.73828125,\n",
       "  5487.513671875,\n",
       "  5082.4365234375,\n",
       "  4691.357421875,\n",
       "  4305.8330078125,\n",
       "  3923.83935546875,\n",
       "  3546.149169921875,\n",
       "  3183.86865234375,\n",
       "  2824.3857421875,\n",
       "  2467.35009765625,\n",
       "  2118.73974609375,\n",
       "  1776.8070068359375,\n",
       "  1436.1123046875,\n",
       "  1100.0587158203125,\n",
       "  768.3827514648438,\n",
       "  429.6636047363281,\n",
       "  136.89598083496094,\n",
       "  16.373455047607422,\n",
       "  11.742454528808594,\n",
       "  8.962884902954102,\n",
       "  6.308037281036377,\n",
       "  4.189249515533447,\n",
       "  2.853675603866577,\n",
       "  1.5443834066390991,\n",
       "  1.0800127983093262,\n",
       "  0.7408826351165771,\n",
       "  3.659642219543457,\n",
       "  0.6414783000946045,\n",
       "  1.2032300233840942,\n",
       "  1.806371808052063,\n",
       "  0.561394453048706,\n",
       "  1.1798344850540161]}"
      ]
     },
     "execution_count": 116,
     "metadata": {},
     "output_type": "execute_result"
    }
   ],
   "source": [
    "history.history # gives matrix "
   ]
  },
  {
   "cell_type": "code",
   "execution_count": 117,
   "id": "5d82d5bc",
   "metadata": {},
   "outputs": [
    {
     "data": {
      "text/plain": [
       "[<matplotlib.lines.Line2D at 0x2ddda11a8a0>]"
      ]
     },
     "execution_count": 117,
     "metadata": {},
     "output_type": "execute_result"
    },
    {
     "data": {
      "image/png": "[encoded data removed]",
      "text/plain": [
       "<Figure size 640x480 with 1 Axes>"
      ]
     },
     "metadata": {},
     "output_type": "display_data"
    }
   ],
   "source": [
    "plt.plot(history.history['accuracy'])\n",
    "plt.plot(history.history['val_accuracy'])"
   ]
  }
 ],
 "metadata": {
  "kernelspec": {
   "display_name": "base",
   "language": "python",
   "name": "python3"
  },
  "language_info": {
   "codemirror_mode": {
    "name": "ipython",
    "version": 3
   },
   "file_extension": ".py",
   "mimetype": "text/x-python",
   "name": "python",
   "nbconvert_exporter": "python",
   "pygments_lexer": "ipython3",
   "version": "3.12.7"
  }
 },
 "nbformat": 4,
 "nbformat_minor": 5
}
