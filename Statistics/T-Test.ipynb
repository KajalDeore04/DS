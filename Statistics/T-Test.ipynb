{
 "cells": [
  {
   "cell_type": "markdown",
   "id": "4857ae2a",
   "metadata": {},
   "source": [
    "# One sample T test"
   ]
  },
  {
   "cell_type": "code",
   "execution_count": 17,
   "id": "cfbb0fc7",
   "metadata": {},
   "outputs": [],
   "source": [
    "import numpy as np\n",
    "from scipy import stats\n",
    " "
   ]
  },
  {
   "cell_type": "code",
   "execution_count": 18,
   "id": "60aa5831",
   "metadata": {},
   "outputs": [],
   "source": [
    "sample = [172, 174, 168, 169, 171, 173, 175, 170, 169, 172]\n",
    "\n",
    "sample_mean = np.mean(sample)\n",
    "sample_std = np.std(sample, ddof = 1)   # degree of freedome for t-test is always 1\n",
    "n = len(sample)\n",
    "population_mean = 170\n"
   ]
  },
  {
   "cell_type": "code",
   "execution_count": 19,
   "id": "8b0ab403",
   "metadata": {},
   "outputs": [
    {
     "data": {
      "text/plain": [
       "1.7782469350914734"
      ]
     },
     "execution_count": 19,
     "metadata": {},
     "output_type": "execute_result"
    }
   ],
   "source": [
    "t_stats = (sample_mean - population_mean) / (sample_std / np.sqrt(n))\n",
    "t_stats"
   ]
  },
  {
   "cell_type": "code",
   "execution_count": 21,
   "id": "dc40c386",
   "metadata": {},
   "outputs": [
    {
     "data": {
      "text/plain": [
       "0.10907771593031335"
      ]
     },
     "execution_count": 21,
     "metadata": {},
     "output_type": "execute_result"
    }
   ],
   "source": [
    "p_value = 2 * (1 - stats.t.cdf(abs(t_stats) , df = n-1))\n",
    "p_value"
   ]
  },
  {
   "cell_type": "code",
   "execution_count": 22,
   "id": "3ee055b6",
   "metadata": {},
   "outputs": [
    {
     "name": "stdout",
     "output_type": "stream",
     "text": [
      "Accept Null\n"
     ]
    }
   ],
   "source": [
    "alpha = 0.05\n",
    "\n",
    "if p_value < alpha:\n",
    "    print(\"Reject Null\")\n",
    "else:\n",
    "    print(\"Accept Null\")"
   ]
  },
  {
   "cell_type": "markdown",
   "id": "f50a523c",
   "metadata": {},
   "source": [
    "# Two Sample T-Test"
   ]
  },
  {
   "cell_type": "code",
   "execution_count": 23,
   "id": "244f5402",
   "metadata": {},
   "outputs": [],
   "source": [
    "group_A = [85, 88, 90, 92, 87, 85, 89, 91, 86, 88]\n",
    "group_B = [82, 84, 80, 83, 81, 79, 78, 85, 84, 83]"
   ]
  },
  {
   "cell_type": "markdown",
   "id": "0e9b3cde",
   "metadata": {},
   "source": [
    "Null Hypothesis (H0): There is no difference in both the samples\n",
    "\n",
    "Alternate Hypothesis (H1) : There is difference in both the samples"
   ]
  },
  {
   "cell_type": "code",
   "execution_count": 25,
   "id": "8ec6615f",
   "metadata": {},
   "outputs": [],
   "source": [
    "t_stats, p_value = stats.ttest_ind(group_A, group_B, equal_var=False )"
   ]
  },
  {
   "cell_type": "code",
   "execution_count": 28,
   "id": "b5bb31bd",
   "metadata": {},
   "outputs": [
    {
     "name": "stdout",
     "output_type": "stream",
     "text": [
      "Reject Null\n"
     ]
    }
   ],
   "source": [
    "alpha = 0.05\n",
    "\n",
    "if p_value < alpha:\n",
    "    print(\"Reject Null\")\n",
    "else:\n",
    "    print(\"Accept Null\")"
   ]
  }
 ],
 "metadata": {
  "kernelspec": {
   "display_name": "base",
   "language": "python",
   "name": "python3"
  },
  "language_info": {
   "codemirror_mode": {
    "name": "ipython",
    "version": 3
   },
   "file_extension": ".py",
   "mimetype": "text/x-python",
   "name": "python",
   "nbconvert_exporter": "python",
   "pygments_lexer": "ipython3",
   "version": "3.12.7"
  }
 },
 "nbformat": 4,
 "nbformat_minor": 5
}
