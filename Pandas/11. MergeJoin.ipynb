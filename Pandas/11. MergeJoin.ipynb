{
 "cells": [
  {
   "cell_type": "markdown",
   "id": "227201d3",
   "metadata": {},
   "source": [
    "# Merging and Joining \n",
    "- real ds are spread across multiple CSVs/tables\n",
    "- they need joining ds (feature + label)\n",
    "- combining data across keys\n",
    "- enriching ds before modeling\n",
    "- pandas provide - pd.merge for SQL like joins, pd.concat for stacking, join() for simple index based join\n",
    "\n",
    "| EmployeeID | Name    | Department |\n",
    "| ---------- | ------- | ---------- |\n",
    "| 1          | Alice   | HR         |\n",
    "| 2          | Bob     | IT         |\n",
    "| 3          | Charlie | Finance    |\n",
    "\n",
    "| EmployeeID | Salary |\n",
    "| ---------- | ------ |\n",
    "| 1          | 50000  |\n",
    "| 2          | 60000  |\n",
    "| 3          | 55000  |\n",
    "\n",
    "we want to combine both using EmployeeID\n",
    "hence use merge\n"
   ]
  },
  {
   "cell_type": "code",
   "execution_count": 5,
   "id": "c538c542",
   "metadata": {},
   "outputs": [
    {
     "data": {
      "text/plain": [
       "(   EmployeeID     Name Department\n",
       " 0           1    Alice         HR\n",
       " 1           2      Bob         IT\n",
       " 2           3  Charlie    Finance,\n",
       "    EmployeeID  Salary\n",
       " 0           2   60000\n",
       " 1           3   55000\n",
       " 2           4   52000)"
      ]
     },
     "execution_count": 5,
     "metadata": {},
     "output_type": "execute_result"
    }
   ],
   "source": [
    "import pandas as pd\n",
    "\n",
    "# Table 1: Employee Info\n",
    "employees = pd.DataFrame({\n",
    "    'EmployeeID': [1, 2, 3],\n",
    "    'Name': ['Alice', 'Bob', 'Charlie'],\n",
    "    'Department': ['HR', 'IT', 'Finance']\n",
    "})\n",
    "\n",
    "# Table 2: Salary Info\n",
    "salaries = pd.DataFrame({\n",
    "    'EmployeeID': [ 2, 3, 4],\n",
    "    'Salary': [ 60000, 55000, 52000]\n",
    "})\n",
    "\n",
    "employees, salaries\n"
   ]
  },
  {
   "cell_type": "code",
   "execution_count": null,
   "id": "34d1eb2f",
   "metadata": {},
   "outputs": [
    {
     "data": {
      "text/html": [
       "<div>\n",
       "<style scoped>\n",
       "    .dataframe tbody tr th:only-of-type {\n",
       "        vertical-align: middle;\n",
       "    }\n",
       "\n",
       "    .dataframe tbody tr th {\n",
       "        vertical-align: top;\n",
       "    }\n",
       "\n",
       "    .dataframe thead th {\n",
       "        text-align: right;\n",
       "    }\n",
       "</style>\n",
       "<table border=\"1\" class=\"dataframe\">\n",
       "  <thead>\n",
       "    <tr style=\"text-align: right;\">\n",
       "      <th></th>\n",
       "      <th>EmployeeID</th>\n",
       "      <th>Name</th>\n",
       "      <th>Department</th>\n",
       "      <th>Salary</th>\n",
       "    </tr>\n",
       "  </thead>\n",
       "  <tbody>\n",
       "    <tr>\n",
       "      <th>0</th>\n",
       "      <td>2</td>\n",
       "      <td>Bob</td>\n",
       "      <td>IT</td>\n",
       "      <td>60000</td>\n",
       "    </tr>\n",
       "    <tr>\n",
       "      <th>1</th>\n",
       "      <td>3</td>\n",
       "      <td>Charlie</td>\n",
       "      <td>Finance</td>\n",
       "      <td>55000</td>\n",
       "    </tr>\n",
       "  </tbody>\n",
       "</table>\n",
       "</div>"
      ],
      "text/plain": [
       "   EmployeeID     Name Department  Salary\n",
       "0           2      Bob         IT   60000\n",
       "1           3  Charlie    Finance   55000"
      ]
     },
     "execution_count": 6,
     "metadata": {},
     "output_type": "execute_result"
    }
   ],
   "source": [
    "# Merge - doesnt include salary of employee whose name and dept are not present. i.e. present in table2 but not in table1 or in table1 but not table2\n",
    "\n",
    "combined = pd.merge(employees, salaries, on='EmployeeID')\n",
    "combined"
   ]
  },
  {
   "cell_type": "code",
   "execution_count": 7,
   "id": "4998ef00",
   "metadata": {},
   "outputs": [
    {
     "data": {
      "text/html": [
       "<div>\n",
       "<style scoped>\n",
       "    .dataframe tbody tr th:only-of-type {\n",
       "        vertical-align: middle;\n",
       "    }\n",
       "\n",
       "    .dataframe tbody tr th {\n",
       "        vertical-align: top;\n",
       "    }\n",
       "\n",
       "    .dataframe thead th {\n",
       "        text-align: right;\n",
       "    }\n",
       "</style>\n",
       "<table border=\"1\" class=\"dataframe\">\n",
       "  <thead>\n",
       "    <tr style=\"text-align: right;\">\n",
       "      <th></th>\n",
       "      <th>EmployeeID</th>\n",
       "      <th>Name</th>\n",
       "      <th>Department</th>\n",
       "      <th>Salary</th>\n",
       "    </tr>\n",
       "  </thead>\n",
       "  <tbody>\n",
       "    <tr>\n",
       "      <th>0</th>\n",
       "      <td>1</td>\n",
       "      <td>Alice</td>\n",
       "      <td>HR</td>\n",
       "      <td>NaN</td>\n",
       "    </tr>\n",
       "    <tr>\n",
       "      <th>1</th>\n",
       "      <td>2</td>\n",
       "      <td>Bob</td>\n",
       "      <td>IT</td>\n",
       "      <td>60000.0</td>\n",
       "    </tr>\n",
       "    <tr>\n",
       "      <th>2</th>\n",
       "      <td>3</td>\n",
       "      <td>Charlie</td>\n",
       "      <td>Finance</td>\n",
       "      <td>55000.0</td>\n",
       "    </tr>\n",
       "  </tbody>\n",
       "</table>\n",
       "</div>"
      ],
      "text/plain": [
       "   EmployeeID     Name Department   Salary\n",
       "0           1    Alice         HR      NaN\n",
       "1           2      Bob         IT  60000.0\n",
       "2           3  Charlie    Finance  55000.0"
      ]
     },
     "execution_count": 7,
     "metadata": {},
     "output_type": "execute_result"
    }
   ],
   "source": [
    "# employee 4 and 1 is not added\n",
    "# to include everyone from employee table even if they dont have salary info\n",
    "\n",
    "combined = pd.merge(employees, salaries, on='EmployeeID', how='left')\n",
    "combined"
   ]
  },
  {
   "cell_type": "markdown",
   "id": "0b5f6a04",
   "metadata": {},
   "source": [
    "### Types of merges -\n",
    "1. Inner join (default) - shows rows where EmpID exists in both\n",
    "2. Outer join - adds everything from left and right\n",
    "3. Left join - shows all rows from left table, adds data from right is available\n",
    "4. Right join"
   ]
  },
  {
   "cell_type": "code",
   "execution_count": 13,
   "id": "2f500d54",
   "metadata": {},
   "outputs": [
    {
     "data": {
      "text/html": [
       "<div>\n",
       "<style scoped>\n",
       "    .dataframe tbody tr th:only-of-type {\n",
       "        vertical-align: middle;\n",
       "    }\n",
       "\n",
       "    .dataframe tbody tr th {\n",
       "        vertical-align: top;\n",
       "    }\n",
       "\n",
       "    .dataframe thead th {\n",
       "        text-align: right;\n",
       "    }\n",
       "</style>\n",
       "<table border=\"1\" class=\"dataframe\">\n",
       "  <thead>\n",
       "    <tr style=\"text-align: right;\">\n",
       "      <th></th>\n",
       "      <th>EmployeeID</th>\n",
       "      <th>Name</th>\n",
       "      <th>Department</th>\n",
       "      <th>Salary</th>\n",
       "    </tr>\n",
       "  </thead>\n",
       "  <tbody>\n",
       "    <tr>\n",
       "      <th>0</th>\n",
       "      <td>1</td>\n",
       "      <td>Alice</td>\n",
       "      <td>HR</td>\n",
       "      <td>NaN</td>\n",
       "    </tr>\n",
       "    <tr>\n",
       "      <th>1</th>\n",
       "      <td>2</td>\n",
       "      <td>Bob</td>\n",
       "      <td>IT</td>\n",
       "      <td>60000.0</td>\n",
       "    </tr>\n",
       "    <tr>\n",
       "      <th>2</th>\n",
       "      <td>3</td>\n",
       "      <td>Charlie</td>\n",
       "      <td>Finance</td>\n",
       "      <td>55000.0</td>\n",
       "    </tr>\n",
       "    <tr>\n",
       "      <th>3</th>\n",
       "      <td>4</td>\n",
       "      <td>NaN</td>\n",
       "      <td>NaN</td>\n",
       "      <td>52000.0</td>\n",
       "    </tr>\n",
       "  </tbody>\n",
       "</table>\n",
       "</div>"
      ],
      "text/plain": [
       "   EmployeeID     Name Department   Salary\n",
       "0           1    Alice         HR      NaN\n",
       "1           2      Bob         IT  60000.0\n",
       "2           3  Charlie    Finance  55000.0\n",
       "3           4      NaN        NaN  52000.0"
      ]
     },
     "execution_count": 13,
     "metadata": {},
     "output_type": "execute_result"
    }
   ],
   "source": [
    "combined = pd.merge(employees, salaries, on='EmployeeID', how='outer')\n",
    "combined"
   ]
  }
 ],
 "metadata": {
  "kernelspec": {
   "display_name": "base",
   "language": "python",
   "name": "python3"
  },
  "language_info": {
   "codemirror_mode": {
    "name": "ipython",
    "version": 3
   },
   "file_extension": ".py",
   "mimetype": "text/x-python",
   "name": "python",
   "nbconvert_exporter": "python",
   "pygments_lexer": "ipython3",
   "version": "3.12.7"
  }
 },
 "nbformat": 4,
 "nbformat_minor": 5
}
