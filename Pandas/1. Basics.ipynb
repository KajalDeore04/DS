{
 "cells": [
  {
   "cell_type": "markdown",
   "id": "0fb9a5e1",
   "metadata": {},
   "source": [
    "# Basics"
   ]
  },
  {
   "cell_type": "markdown",
   "id": "f589decb",
   "metadata": {},
   "source": [
    "- Pandas is Data analysis library\n",
    "- built on numpy, but adds labeling and high level data operations\n",
    "- Data structures in Pandas : Series (1D labeled array), DataFrame (2D labeled table)\n",
    "\n",
    " Use:\n",
    "- easy to read/write CSV, Excel, JSON\n",
    "- data cleaning - handle missing, dupes, outliers\n",
    "- data slicing, filter, group\n",
    "- vectorized operation - faster than python loops"
   ]
  },
  {
   "cell_type": "markdown",
   "id": "292af934",
   "metadata": {},
   "source": [
    "# Series\n",
    "- like column in excel\n",
    "- 1D\n",
    "- has indexed labels + values"
   ]
  },
  {
   "cell_type": "code",
   "execution_count": 1,
   "id": "b98194ea",
   "metadata": {},
   "outputs": [
    {
     "data": {
      "text/plain": [
       "0    10\n",
       "1    20\n",
       "2    30\n",
       "3    40\n",
       "dtype: int64"
      ]
     },
     "execution_count": 1,
     "metadata": {},
     "output_type": "execute_result"
    }
   ],
   "source": [
    "import pandas as pd\n",
    "\n",
    "s = pd.Series([10, 20, 30, 40])\n",
    "s"
   ]
  },
  {
   "cell_type": "markdown",
   "id": "11b84899",
   "metadata": {},
   "source": [
    "- internally it stores data using Numpy arrays (fast)\n",
    "- stores index labels using index object (hashable for quick lookup)"
   ]
  },
  {
   "cell_type": "markdown",
   "id": "299c03ba",
   "metadata": {},
   "source": [
    "### Custom Index"
   ]
  },
  {
   "cell_type": "code",
   "execution_count": 3,
   "id": "31939677",
   "metadata": {},
   "outputs": [
    {
     "data": {
      "text/plain": [
       "a    10\n",
       "b    20\n",
       "c    30\n",
       "dtype: int64"
      ]
     },
     "execution_count": 3,
     "metadata": {},
     "output_type": "execute_result"
    }
   ],
   "source": [
    "s = pd.Series([10, 20, 30], index=['a','b','c'])\n",
    "s"
   ]
  },
  {
   "cell_type": "markdown",
   "id": "1f7b463e",
   "metadata": {},
   "source": [
    "### Access Data"
   ]
  },
  {
   "cell_type": "code",
   "execution_count": 8,
   "id": "9502549e",
   "metadata": {},
   "outputs": [
    {
     "data": {
      "text/plain": [
       "20"
      ]
     },
     "execution_count": 8,
     "metadata": {},
     "output_type": "execute_result"
    }
   ],
   "source": [
    "s['b']"
   ]
  },
  {
   "cell_type": "markdown",
   "id": "033ffcdd",
   "metadata": {},
   "source": [
    "### Operations"
   ]
  },
  {
   "cell_type": "code",
   "execution_count": 10,
   "id": "af8b5dd5",
   "metadata": {},
   "outputs": [
    {
     "data": {
      "text/plain": [
       "a    15\n",
       "b    25\n",
       "c    35\n",
       "dtype: int64"
      ]
     },
     "execution_count": 10,
     "metadata": {},
     "output_type": "execute_result"
    }
   ],
   "source": [
    "s+5"
   ]
  },
  {
   "cell_type": "markdown",
   "id": "832047a4",
   "metadata": {},
   "source": [
    "# DataFrames\n",
    "- like an excel sheet\n",
    "- columns can have different data types\n",
    "- each column = a Series\n",
    "- labeled rows(index) and columns"
   ]
  },
  {
   "cell_type": "markdown",
   "id": "2eedc98d",
   "metadata": {},
   "source": [
    "### Creating DataFrame"
   ]
  },
  {
   "cell_type": "code",
   "execution_count": null,
   "id": "3985e8d1",
   "metadata": {},
   "outputs": [
    {
     "data": {
      "text/html": [
       "<div>\n",
       "<style scoped>\n",
       "    .dataframe tbody tr th:only-of-type {\n",
       "        vertical-align: middle;\n",
       "    }\n",
       "\n",
       "    .dataframe tbody tr th {\n",
       "        vertical-align: top;\n",
       "    }\n",
       "\n",
       "    .dataframe thead th {\n",
       "        text-align: right;\n",
       "    }\n",
       "</style>\n",
       "<table border=\"1\" class=\"dataframe\">\n",
       "  <thead>\n",
       "    <tr style=\"text-align: right;\">\n",
       "      <th></th>\n",
       "      <th>Name</th>\n",
       "      <th>Age</th>\n",
       "      <th>City</th>\n",
       "    </tr>\n",
       "  </thead>\n",
       "  <tbody>\n",
       "    <tr>\n",
       "      <th>0</th>\n",
       "      <td>Alice</td>\n",
       "      <td>25</td>\n",
       "      <td>Pune</td>\n",
       "    </tr>\n",
       "    <tr>\n",
       "      <th>1</th>\n",
       "      <td>Bob</td>\n",
       "      <td>30</td>\n",
       "      <td>Delhi</td>\n",
       "    </tr>\n",
       "    <tr>\n",
       "      <th>2</th>\n",
       "      <td>Charlie</td>\n",
       "      <td>35</td>\n",
       "      <td>Mumbai</td>\n",
       "    </tr>\n",
       "  </tbody>\n",
       "</table>\n",
       "</div>"
      ],
      "text/plain": [
       "      Name  Age    City\n",
       "0    Alice   25    Pune\n",
       "1      Bob   30   Delhi\n",
       "2  Charlie   35  Mumbai"
      ]
     },
     "execution_count": 11,
     "metadata": {},
     "output_type": "execute_result"
    }
   ],
   "source": [
    "# 1. From Dictionary\n",
    "\n",
    "data = {\n",
    "    'Name': ['Alice', 'Bob', 'Charlie'],\n",
    "    'Age': [25, 30, 35],\n",
    "    'City': ['Pune', 'Delhi', 'Mumbai']\n",
    "}\n",
    "\n",
    "df = pd.DataFrame(data)\n",
    "df"
   ]
  },
  {
   "cell_type": "code",
   "execution_count": null,
   "id": "6ab9397b",
   "metadata": {},
   "outputs": [
    {
     "data": {
      "text/html": [
       "<div>\n",
       "<style scoped>\n",
       "    .dataframe tbody tr th:only-of-type {\n",
       "        vertical-align: middle;\n",
       "    }\n",
       "\n",
       "    .dataframe tbody tr th {\n",
       "        vertical-align: top;\n",
       "    }\n",
       "\n",
       "    .dataframe thead th {\n",
       "        text-align: right;\n",
       "    }\n",
       "</style>\n",
       "<table border=\"1\" class=\"dataframe\">\n",
       "  <thead>\n",
       "    <tr style=\"text-align: right;\">\n",
       "      <th></th>\n",
       "      <th>Name</th>\n",
       "      <th>Age</th>\n",
       "      <th>City</th>\n",
       "    </tr>\n",
       "  </thead>\n",
       "  <tbody>\n",
       "    <tr>\n",
       "      <th>0</th>\n",
       "      <td>Alice</td>\n",
       "      <td>25</td>\n",
       "      <td>NaN</td>\n",
       "    </tr>\n",
       "    <tr>\n",
       "      <th>1</th>\n",
       "      <td>Bob</td>\n",
       "      <td>30</td>\n",
       "      <td>Delhi</td>\n",
       "    </tr>\n",
       "  </tbody>\n",
       "</table>\n",
       "</div>"
      ],
      "text/plain": [
       "    Name  Age   City\n",
       "0  Alice   25    NaN\n",
       "1    Bob   30  Delhi"
      ]
     },
     "execution_count": 13,
     "metadata": {},
     "output_type": "execute_result"
    }
   ],
   "source": [
    "# 2. From lists of Dictionary\n",
    "\n",
    "data = [\n",
    "    {'Name': 'Alice', 'Age': 25},    # missing value will be NAN\n",
    "    {'Name': 'Bob', 'Age': 30, 'City': 'Delhi'},\n",
    "]\n",
    "\n",
    "df = pd.DataFrame(data)\n",
    "df"
   ]
  },
  {
   "cell_type": "markdown",
   "id": "e11e3e44",
   "metadata": {},
   "source": [
    "### Access\n",
    "- Accessing Columns\n",
    "- Accessing Rows:\n",
    "    - ```.loc[row_label]``` - label based\n",
    "    - ```.iloc[row_position]``` - integer based"
   ]
  },
  {
   "cell_type": "code",
   "execution_count": null,
   "id": "67b39795",
   "metadata": {},
   "outputs": [
    {
     "data": {
      "text/plain": [
       "0    Alice\n",
       "1      Bob\n",
       "Name: Name, dtype: object"
      ]
     },
     "execution_count": 16,
     "metadata": {},
     "output_type": "execute_result"
    }
   ],
   "source": [
    "df['Name']\n",
    "df.Name  # works only when there is no space and column name is continuos e.g. work days"
   ]
  },
  {
   "cell_type": "code",
   "execution_count": 18,
   "id": "2d656426",
   "metadata": {},
   "outputs": [
    {
     "data": {
      "text/plain": [
       "Name    Alice\n",
       "Age        25\n",
       "City      NaN\n",
       "Name: 0, dtype: object"
      ]
     },
     "execution_count": 18,
     "metadata": {},
     "output_type": "execute_result"
    }
   ],
   "source": [
    "## Accessing Rows\n",
    "\n",
    "df.loc[0]\n",
    "df.iloc[0]"
   ]
  },
  {
   "cell_type": "markdown",
   "id": "90afa708",
   "metadata": {},
   "source": [
    "## DataFrame Attributes\n",
    "- shape - (rows, cols)\n",
    "- columns - lists col names with dtype as 'object'\n",
    "- index - shows range of indexes like start=0, stop=3\n",
    "- dtypes - data types of each col\n",
    "- head \n",
    "- tail\n",
    "- info - non null count, dtypes\n",
    "- describe - summary stats for num cols"
   ]
  },
  {
   "cell_type": "code",
   "execution_count": 28,
   "id": "acae5c80",
   "metadata": {},
   "outputs": [
    {
     "name": "stdout",
     "output_type": "stream",
     "text": [
      "(2, 3)\n",
      "Index(['Name', 'Age', 'City'], dtype='object')\n",
      "RangeIndex(start=0, stop=2, step=1)\n",
      "Name    object\n",
      "Age      int64\n",
      "City    object\n",
      "dtype: object\n"
     ]
    }
   ],
   "source": [
    "print(df.shape)\n",
    "print(df.columns)\n",
    "print(df.index)\n",
    "print(df.dtypes)"
   ]
  },
  {
   "cell_type": "code",
   "execution_count": 29,
   "id": "26b1e324",
   "metadata": {},
   "outputs": [
    {
     "name": "stdout",
     "output_type": "stream",
     "text": [
      "    Name  Age   City\n",
      "0  Alice   25    NaN\n",
      "1    Bob   30  Delhi\n",
      "    Name  Age   City\n",
      "0  Alice   25    NaN\n",
      "1    Bob   30  Delhi\n",
      "<class 'pandas.core.frame.DataFrame'>\n",
      "RangeIndex: 2 entries, 0 to 1\n",
      "Data columns (total 3 columns):\n",
      " #   Column  Non-Null Count  Dtype \n",
      "---  ------  --------------  ----- \n",
      " 0   Name    2 non-null      object\n",
      " 1   Age     2 non-null      int64 \n",
      " 2   City    1 non-null      object\n",
      "dtypes: int64(1), object(2)\n",
      "memory usage: 180.0+ bytes\n",
      "None\n",
      "             Age\n",
      "count   2.000000\n",
      "mean   27.500000\n",
      "std     3.535534\n",
      "min    25.000000\n",
      "25%    26.250000\n",
      "50%    27.500000\n",
      "75%    28.750000\n",
      "max    30.000000\n"
     ]
    }
   ],
   "source": [
    "print(df.head())\n",
    "print(df.tail())\n",
    "print(df.info())\n",
    "print(df.describe())"
   ]
  },
  {
   "cell_type": "markdown",
   "id": "b2652787",
   "metadata": {},
   "source": [
    "# Import and Export Data"
   ]
  },
  {
   "cell_type": "code",
   "execution_count": 31,
   "id": "ffd54f2d",
   "metadata": {},
   "outputs": [],
   "source": [
    "df = pd.read_csv(\"C:/Dataset-DS/students.csv\")\n",
    "\n",
    "#index_col : specify which col to use as index"
   ]
  },
  {
   "cell_type": "code",
   "execution_count": 32,
   "id": "339e4cc0",
   "metadata": {},
   "outputs": [],
   "source": [
    "df.to_csv('output.csv', index=False)\n",
    "\n",
    "# index=False avoids writing row index into csv"
   ]
  },
  {
   "cell_type": "code",
   "execution_count": null,
   "id": "e4c05f4a",
   "metadata": {},
   "outputs": [],
   "source": [
    "# needs openpyxl\n",
    "\n",
    "df = pd.read_excel('data.xlsx', sheet_name='Sheet1')\n",
    "df.to_excel('output.xlsx', index=False)"
   ]
  }
 ],
 "metadata": {
  "kernelspec": {
   "display_name": "base",
   "language": "python",
   "name": "python3"
  },
  "language_info": {
   "codemirror_mode": {
    "name": "ipython",
    "version": 3
   },
   "file_extension": ".py",
   "mimetype": "text/x-python",
   "name": "python",
   "nbconvert_exporter": "python",
   "pygments_lexer": "ipython3",
   "version": "3.12.7"
  }
 },
 "nbformat": 4,
 "nbformat_minor": 5
}
