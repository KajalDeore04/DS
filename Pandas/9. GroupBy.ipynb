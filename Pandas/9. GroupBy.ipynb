{
 "cells": [
  {
   "cell_type": "markdown",
   "id": "f66a3147",
   "metadata": {},
   "source": [
    "# GroupBy\n",
    "- for aggregation and summarization\n",
    "- allow to analyze patterns by category, group, segment\n",
    "- for mean/median by category, count analysis, custom aggregation, pivot table creation\n",
    "- if more repeated values then use .astype('category') for groupby \n",
    "\n",
    "``` It is Split-Apply-Combine Strategy ```\n",
    "- split data into groups based on columns\n",
    "- apply a function like mean, custom to each group\n",
    "- combine the results into a new DF\n"
   ]
  },
  {
   "cell_type": "code",
   "execution_count": 1,
   "id": "ea355347",
   "metadata": {},
   "outputs": [
    {
     "data": {
      "text/html": [
       "<div>\n",
       "<style scoped>\n",
       "    .dataframe tbody tr th:only-of-type {\n",
       "        vertical-align: middle;\n",
       "    }\n",
       "\n",
       "    .dataframe tbody tr th {\n",
       "        vertical-align: top;\n",
       "    }\n",
       "\n",
       "    .dataframe thead th {\n",
       "        text-align: right;\n",
       "    }\n",
       "</style>\n",
       "<table border=\"1\" class=\"dataframe\">\n",
       "  <thead>\n",
       "    <tr style=\"text-align: right;\">\n",
       "      <th></th>\n",
       "      <th>Department</th>\n",
       "      <th>Employee</th>\n",
       "      <th>Salary</th>\n",
       "      <th>Experience</th>\n",
       "    </tr>\n",
       "  </thead>\n",
       "  <tbody>\n",
       "    <tr>\n",
       "      <th>0</th>\n",
       "      <td>HR</td>\n",
       "      <td>A</td>\n",
       "      <td>50000</td>\n",
       "      <td>2</td>\n",
       "    </tr>\n",
       "    <tr>\n",
       "      <th>1</th>\n",
       "      <td>IT</td>\n",
       "      <td>B</td>\n",
       "      <td>60000</td>\n",
       "      <td>5</td>\n",
       "    </tr>\n",
       "    <tr>\n",
       "      <th>2</th>\n",
       "      <td>Finance</td>\n",
       "      <td>C</td>\n",
       "      <td>55000</td>\n",
       "      <td>7</td>\n",
       "    </tr>\n",
       "    <tr>\n",
       "      <th>3</th>\n",
       "      <td>IT</td>\n",
       "      <td>D</td>\n",
       "      <td>62000</td>\n",
       "      <td>3</td>\n",
       "    </tr>\n",
       "    <tr>\n",
       "      <th>4</th>\n",
       "      <td>HR</td>\n",
       "      <td>E</td>\n",
       "      <td>52000</td>\n",
       "      <td>4</td>\n",
       "    </tr>\n",
       "    <tr>\n",
       "      <th>5</th>\n",
       "      <td>Finance</td>\n",
       "      <td>F</td>\n",
       "      <td>57000</td>\n",
       "      <td>6</td>\n",
       "    </tr>\n",
       "    <tr>\n",
       "      <th>6</th>\n",
       "      <td>IT</td>\n",
       "      <td>G</td>\n",
       "      <td>63000</td>\n",
       "      <td>8</td>\n",
       "    </tr>\n",
       "    <tr>\n",
       "      <th>7</th>\n",
       "      <td>HR</td>\n",
       "      <td>H</td>\n",
       "      <td>51000</td>\n",
       "      <td>1</td>\n",
       "    </tr>\n",
       "  </tbody>\n",
       "</table>\n",
       "</div>"
      ],
      "text/plain": [
       "  Department Employee  Salary  Experience\n",
       "0         HR        A   50000           2\n",
       "1         IT        B   60000           5\n",
       "2    Finance        C   55000           7\n",
       "3         IT        D   62000           3\n",
       "4         HR        E   52000           4\n",
       "5    Finance        F   57000           6\n",
       "6         IT        G   63000           8\n",
       "7         HR        H   51000           1"
      ]
     },
     "execution_count": 1,
     "metadata": {},
     "output_type": "execute_result"
    }
   ],
   "source": [
    "import pandas as pd\n",
    "\n",
    "data = {\n",
    "    'Department': ['HR', 'IT', 'Finance', 'IT', 'HR', 'Finance', 'IT', 'HR'],\n",
    "    'Employee': ['A', 'B', 'C', 'D', 'E', 'F', 'G', 'H'],\n",
    "    'Salary': [50000, 60000, 55000, 62000, 52000, 57000, 63000, 51000],\n",
    "    'Experience': [2, 5, 7, 3, 4, 6, 8, 1]\n",
    "}\n",
    "\n",
    "df = pd.DataFrame(data)\n",
    "df"
   ]
  },
  {
   "cell_type": "markdown",
   "id": "c0270036",
   "metadata": {},
   "source": [
    "### Basic groupby with aggregation"
   ]
  },
  {
   "cell_type": "code",
   "execution_count": null,
   "id": "08ec2021",
   "metadata": {},
   "outputs": [
    {
     "data": {
      "text/plain": [
       "Department\n",
       "Finance    56000.000000\n",
       "HR         51000.000000\n",
       "IT         61666.666667\n",
       "Name: Salary, dtype: float64"
      ]
     },
     "execution_count": 2,
     "metadata": {},
     "output_type": "execute_result"
    }
   ],
   "source": [
    "df.groupby('Department')['Salary'].mean()  # grouped people department wise like unique vals and then added mean to their salary"
   ]
  },
  {
   "cell_type": "code",
   "execution_count": 4,
   "id": "64ab751e",
   "metadata": {},
   "outputs": [
    {
     "data": {
      "text/plain": [
       "Department\n",
       "Finance    2\n",
       "HR         3\n",
       "IT         3\n",
       "dtype: int64"
      ]
     },
     "execution_count": 4,
     "metadata": {},
     "output_type": "execute_result"
    }
   ],
   "source": [
    "df.groupby('Department')['Employee'].count()\n",
    "df.groupby('Department').size()"
   ]
  },
  {
   "cell_type": "markdown",
   "id": "81bda473",
   "metadata": {},
   "source": [
    "# agg() for multiple aggregation"
   ]
  },
  {
   "cell_type": "code",
   "execution_count": 6,
   "id": "ac9ab4a9",
   "metadata": {},
   "outputs": [
    {
     "data": {
      "text/html": [
       "<div>\n",
       "<style scoped>\n",
       "    .dataframe tbody tr th:only-of-type {\n",
       "        vertical-align: middle;\n",
       "    }\n",
       "\n",
       "    .dataframe tbody tr th {\n",
       "        vertical-align: top;\n",
       "    }\n",
       "\n",
       "    .dataframe thead tr th {\n",
       "        text-align: left;\n",
       "    }\n",
       "\n",
       "    .dataframe thead tr:last-of-type th {\n",
       "        text-align: right;\n",
       "    }\n",
       "</style>\n",
       "<table border=\"1\" class=\"dataframe\">\n",
       "  <thead>\n",
       "    <tr>\n",
       "      <th></th>\n",
       "      <th colspan=\"3\" halign=\"left\">Salary</th>\n",
       "      <th>Experience</th>\n",
       "    </tr>\n",
       "    <tr>\n",
       "      <th></th>\n",
       "      <th>mean</th>\n",
       "      <th>max</th>\n",
       "      <th>min</th>\n",
       "      <th>median</th>\n",
       "    </tr>\n",
       "    <tr>\n",
       "      <th>Department</th>\n",
       "      <th></th>\n",
       "      <th></th>\n",
       "      <th></th>\n",
       "      <th></th>\n",
       "    </tr>\n",
       "  </thead>\n",
       "  <tbody>\n",
       "    <tr>\n",
       "      <th>Finance</th>\n",
       "      <td>56000.000000</td>\n",
       "      <td>57000</td>\n",
       "      <td>55000</td>\n",
       "      <td>6.5</td>\n",
       "    </tr>\n",
       "    <tr>\n",
       "      <th>HR</th>\n",
       "      <td>51000.000000</td>\n",
       "      <td>52000</td>\n",
       "      <td>50000</td>\n",
       "      <td>2.0</td>\n",
       "    </tr>\n",
       "    <tr>\n",
       "      <th>IT</th>\n",
       "      <td>61666.666667</td>\n",
       "      <td>63000</td>\n",
       "      <td>60000</td>\n",
       "      <td>5.0</td>\n",
       "    </tr>\n",
       "  </tbody>\n",
       "</table>\n",
       "</div>"
      ],
      "text/plain": [
       "                  Salary               Experience\n",
       "                    mean    max    min     median\n",
       "Department                                       \n",
       "Finance     56000.000000  57000  55000        6.5\n",
       "HR          51000.000000  52000  50000        2.0\n",
       "IT          61666.666667  63000  60000        5.0"
      ]
     },
     "execution_count": 6,
     "metadata": {},
     "output_type": "execute_result"
    }
   ],
   "source": [
    "df.groupby('Department').agg({\n",
    "    'Salary':['mean', 'max', 'min'],\n",
    "    'Experience': 'median'\n",
    "})"
   ]
  },
  {
   "cell_type": "markdown",
   "id": "ccf13862",
   "metadata": {},
   "source": [
    "### Group multiple cols"
   ]
  },
  {
   "cell_type": "code",
   "execution_count": 7,
   "id": "b23e6e4f",
   "metadata": {},
   "outputs": [
    {
     "data": {
      "text/plain": [
       "Department  Experience\n",
       "Finance     6             57000.0\n",
       "            7             55000.0\n",
       "HR          1             51000.0\n",
       "            2             50000.0\n",
       "            4             52000.0\n",
       "IT          3             62000.0\n",
       "            5             60000.0\n",
       "            8             63000.0\n",
       "Name: Salary, dtype: float64"
      ]
     },
     "execution_count": 7,
     "metadata": {},
     "output_type": "execute_result"
    }
   ],
   "source": [
    "df.groupby(['Department', 'Experience'])['Salary'].mean()"
   ]
  },
  {
   "cell_type": "markdown",
   "id": "50bed5ee",
   "metadata": {},
   "source": [
    "### reset index\n",
    "- groupby returns a series or df with the grouped cols as index\n",
    "- to convert them back into cols"
   ]
  },
  {
   "cell_type": "code",
   "execution_count": 8,
   "id": "46c7affd",
   "metadata": {},
   "outputs": [
    {
     "data": {
      "text/html": [
       "<div>\n",
       "<style scoped>\n",
       "    .dataframe tbody tr th:only-of-type {\n",
       "        vertical-align: middle;\n",
       "    }\n",
       "\n",
       "    .dataframe tbody tr th {\n",
       "        vertical-align: top;\n",
       "    }\n",
       "\n",
       "    .dataframe thead th {\n",
       "        text-align: right;\n",
       "    }\n",
       "</style>\n",
       "<table border=\"1\" class=\"dataframe\">\n",
       "  <thead>\n",
       "    <tr style=\"text-align: right;\">\n",
       "      <th></th>\n",
       "      <th>Department</th>\n",
       "      <th>Salary</th>\n",
       "    </tr>\n",
       "  </thead>\n",
       "  <tbody>\n",
       "    <tr>\n",
       "      <th>0</th>\n",
       "      <td>Finance</td>\n",
       "      <td>56000.000000</td>\n",
       "    </tr>\n",
       "    <tr>\n",
       "      <th>1</th>\n",
       "      <td>HR</td>\n",
       "      <td>51000.000000</td>\n",
       "    </tr>\n",
       "    <tr>\n",
       "      <th>2</th>\n",
       "      <td>IT</td>\n",
       "      <td>61666.666667</td>\n",
       "    </tr>\n",
       "  </tbody>\n",
       "</table>\n",
       "</div>"
      ],
      "text/plain": [
       "  Department        Salary\n",
       "0    Finance  56000.000000\n",
       "1         HR  51000.000000\n",
       "2         IT  61666.666667"
      ]
     },
     "execution_count": 8,
     "metadata": {},
     "output_type": "execute_result"
    }
   ],
   "source": [
    "grouped = df.groupby('Department')['Salary'].mean().reset_index()\n",
    "grouped"
   ]
  },
  {
   "cell_type": "markdown",
   "id": "2dc85c19",
   "metadata": {},
   "source": [
    "### Using groupby with filter()"
   ]
  },
  {
   "cell_type": "code",
   "execution_count": 9,
   "id": "a334c446",
   "metadata": {},
   "outputs": [
    {
     "data": {
      "text/html": [
       "<div>\n",
       "<style scoped>\n",
       "    .dataframe tbody tr th:only-of-type {\n",
       "        vertical-align: middle;\n",
       "    }\n",
       "\n",
       "    .dataframe tbody tr th {\n",
       "        vertical-align: top;\n",
       "    }\n",
       "\n",
       "    .dataframe thead th {\n",
       "        text-align: right;\n",
       "    }\n",
       "</style>\n",
       "<table border=\"1\" class=\"dataframe\">\n",
       "  <thead>\n",
       "    <tr style=\"text-align: right;\">\n",
       "      <th></th>\n",
       "      <th>Department</th>\n",
       "      <th>Employee</th>\n",
       "      <th>Salary</th>\n",
       "      <th>Experience</th>\n",
       "    </tr>\n",
       "  </thead>\n",
       "  <tbody>\n",
       "    <tr>\n",
       "      <th>1</th>\n",
       "      <td>IT</td>\n",
       "      <td>B</td>\n",
       "      <td>60000</td>\n",
       "      <td>5</td>\n",
       "    </tr>\n",
       "    <tr>\n",
       "      <th>2</th>\n",
       "      <td>Finance</td>\n",
       "      <td>C</td>\n",
       "      <td>55000</td>\n",
       "      <td>7</td>\n",
       "    </tr>\n",
       "    <tr>\n",
       "      <th>3</th>\n",
       "      <td>IT</td>\n",
       "      <td>D</td>\n",
       "      <td>62000</td>\n",
       "      <td>3</td>\n",
       "    </tr>\n",
       "    <tr>\n",
       "      <th>5</th>\n",
       "      <td>Finance</td>\n",
       "      <td>F</td>\n",
       "      <td>57000</td>\n",
       "      <td>6</td>\n",
       "    </tr>\n",
       "    <tr>\n",
       "      <th>6</th>\n",
       "      <td>IT</td>\n",
       "      <td>G</td>\n",
       "      <td>63000</td>\n",
       "      <td>8</td>\n",
       "    </tr>\n",
       "  </tbody>\n",
       "</table>\n",
       "</div>"
      ],
      "text/plain": [
       "  Department Employee  Salary  Experience\n",
       "1         IT        B   60000           5\n",
       "2    Finance        C   55000           7\n",
       "3         IT        D   62000           3\n",
       "5    Finance        F   57000           6\n",
       "6         IT        G   63000           8"
      ]
     },
     "execution_count": 9,
     "metadata": {},
     "output_type": "execute_result"
    }
   ],
   "source": [
    "df.groupby('Department').filter(lambda x: x['Salary'].mean() > 55000)\n",
    "# keeps only dept with mean salary > 55000"
   ]
  },
  {
   "cell_type": "markdown",
   "id": "07591ced",
   "metadata": {},
   "source": [
    "### Using groupby with transform()\n",
    "- transform returns a Series with same length as og df, unlike agg\n",
    "- broadcast aggregated results back to each row\n",
    "- Use when you need per-row values that depend on group aggregates"
   ]
  },
  {
   "cell_type": "code",
   "execution_count": 10,
   "id": "b7956eaa",
   "metadata": {},
   "outputs": [
    {
     "data": {
      "text/html": [
       "<div>\n",
       "<style scoped>\n",
       "    .dataframe tbody tr th:only-of-type {\n",
       "        vertical-align: middle;\n",
       "    }\n",
       "\n",
       "    .dataframe tbody tr th {\n",
       "        vertical-align: top;\n",
       "    }\n",
       "\n",
       "    .dataframe thead th {\n",
       "        text-align: right;\n",
       "    }\n",
       "</style>\n",
       "<table border=\"1\" class=\"dataframe\">\n",
       "  <thead>\n",
       "    <tr style=\"text-align: right;\">\n",
       "      <th></th>\n",
       "      <th>Department</th>\n",
       "      <th>Employee</th>\n",
       "      <th>Salary</th>\n",
       "      <th>Experience</th>\n",
       "      <th>Dept_Avg_Salary</th>\n",
       "    </tr>\n",
       "  </thead>\n",
       "  <tbody>\n",
       "    <tr>\n",
       "      <th>0</th>\n",
       "      <td>HR</td>\n",
       "      <td>A</td>\n",
       "      <td>50000</td>\n",
       "      <td>2</td>\n",
       "      <td>51000.000000</td>\n",
       "    </tr>\n",
       "    <tr>\n",
       "      <th>1</th>\n",
       "      <td>IT</td>\n",
       "      <td>B</td>\n",
       "      <td>60000</td>\n",
       "      <td>5</td>\n",
       "      <td>61666.666667</td>\n",
       "    </tr>\n",
       "    <tr>\n",
       "      <th>2</th>\n",
       "      <td>Finance</td>\n",
       "      <td>C</td>\n",
       "      <td>55000</td>\n",
       "      <td>7</td>\n",
       "      <td>56000.000000</td>\n",
       "    </tr>\n",
       "    <tr>\n",
       "      <th>3</th>\n",
       "      <td>IT</td>\n",
       "      <td>D</td>\n",
       "      <td>62000</td>\n",
       "      <td>3</td>\n",
       "      <td>61666.666667</td>\n",
       "    </tr>\n",
       "    <tr>\n",
       "      <th>4</th>\n",
       "      <td>HR</td>\n",
       "      <td>E</td>\n",
       "      <td>52000</td>\n",
       "      <td>4</td>\n",
       "      <td>51000.000000</td>\n",
       "    </tr>\n",
       "    <tr>\n",
       "      <th>5</th>\n",
       "      <td>Finance</td>\n",
       "      <td>F</td>\n",
       "      <td>57000</td>\n",
       "      <td>6</td>\n",
       "      <td>56000.000000</td>\n",
       "    </tr>\n",
       "    <tr>\n",
       "      <th>6</th>\n",
       "      <td>IT</td>\n",
       "      <td>G</td>\n",
       "      <td>63000</td>\n",
       "      <td>8</td>\n",
       "      <td>61666.666667</td>\n",
       "    </tr>\n",
       "    <tr>\n",
       "      <th>7</th>\n",
       "      <td>HR</td>\n",
       "      <td>H</td>\n",
       "      <td>51000</td>\n",
       "      <td>1</td>\n",
       "      <td>51000.000000</td>\n",
       "    </tr>\n",
       "  </tbody>\n",
       "</table>\n",
       "</div>"
      ],
      "text/plain": [
       "  Department Employee  Salary  Experience  Dept_Avg_Salary\n",
       "0         HR        A   50000           2     51000.000000\n",
       "1         IT        B   60000           5     61666.666667\n",
       "2    Finance        C   55000           7     56000.000000\n",
       "3         IT        D   62000           3     61666.666667\n",
       "4         HR        E   52000           4     51000.000000\n",
       "5    Finance        F   57000           6     56000.000000\n",
       "6         IT        G   63000           8     61666.666667\n",
       "7         HR        H   51000           1     51000.000000"
      ]
     },
     "execution_count": 10,
     "metadata": {},
     "output_type": "execute_result"
    }
   ],
   "source": [
    "df['Dept_Avg_Salary'] = df.groupby('Department')['Salary'].transform('mean')\n",
    "df"
   ]
  },
  {
   "cell_type": "markdown",
   "id": "45ce89dd",
   "metadata": {},
   "source": [
    "| Task             | Method                          |\n",
    "| ---------------- | ------------------------------- |\n",
    "| Group data       | `df.groupby('col')`             |\n",
    "| Aggregate        | `agg({'col': ['mean', 'max']})` |\n",
    "| Count            | `size()` or `count()`           |\n",
    "| Filter groups    | `groupby().filter()`            |\n",
    "| Transform groups | `groupby().transform()`         |\n",
    "| Reset index      | `reset_index()`                 |"
   ]
  }
 ],
 "metadata": {
  "kernelspec": {
   "display_name": "base",
   "language": "python",
   "name": "python3"
  },
  "language_info": {
   "codemirror_mode": {
    "name": "ipython",
    "version": 3
   },
   "file_extension": ".py",
   "mimetype": "text/x-python",
   "name": "python",
   "nbconvert_exporter": "python",
   "pygments_lexer": "ipython3",
   "version": "3.12.7"
  }
 },
 "nbformat": 4,
 "nbformat_minor": 5
}
