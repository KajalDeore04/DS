{
 "cells": [
  {
   "cell_type": "markdown",
   "id": "a8365a5d",
   "metadata": {},
   "source": [
    "# DataType Conversion\n",
    "- to save memory\n",
    "- to have correct type for analysis and modeling\n",
    "- correct ops\n",
    "- Num for ML models\n",
    "\n",
    "DataTypes\n",
    "1. int64, float64\n",
    "2. object - string or mixed type\n",
    "3. bool\n",
    "4. datetime64[ns]\n",
    "5. category"
   ]
  },
  {
   "cell_type": "markdown",
   "id": "fbd5c2a0",
   "metadata": {},
   "source": [
    "#### Checking DataType\n"
   ]
  },
  {
   "cell_type": "code",
   "execution_count": 1,
   "id": "61647730",
   "metadata": {},
   "outputs": [
    {
     "data": {
      "text/html": [
       "<div>\n",
       "<style scoped>\n",
       "    .dataframe tbody tr th:only-of-type {\n",
       "        vertical-align: middle;\n",
       "    }\n",
       "\n",
       "    .dataframe tbody tr th {\n",
       "        vertical-align: top;\n",
       "    }\n",
       "\n",
       "    .dataframe thead th {\n",
       "        text-align: right;\n",
       "    }\n",
       "</style>\n",
       "<table border=\"1\" class=\"dataframe\">\n",
       "  <thead>\n",
       "    <tr style=\"text-align: right;\">\n",
       "      <th></th>\n",
       "      <th>Name</th>\n",
       "      <th>Age</th>\n",
       "      <th>Salary</th>\n",
       "      <th>JoiningDate</th>\n",
       "      <th>Department</th>\n",
       "    </tr>\n",
       "  </thead>\n",
       "  <tbody>\n",
       "    <tr>\n",
       "      <th>0</th>\n",
       "      <td>Alice</td>\n",
       "      <td>25</td>\n",
       "      <td>50000</td>\n",
       "      <td>2020-01-15</td>\n",
       "      <td>HR</td>\n",
       "    </tr>\n",
       "    <tr>\n",
       "      <th>1</th>\n",
       "      <td>Bob</td>\n",
       "      <td>30</td>\n",
       "      <td>60000</td>\n",
       "      <td>2019-07-23</td>\n",
       "      <td>Finance</td>\n",
       "    </tr>\n",
       "    <tr>\n",
       "      <th>2</th>\n",
       "      <td>Charlie</td>\n",
       "      <td>35</td>\n",
       "      <td>70000</td>\n",
       "      <td>2021-03-10</td>\n",
       "      <td>IT</td>\n",
       "    </tr>\n",
       "    <tr>\n",
       "      <th>3</th>\n",
       "      <td>David</td>\n",
       "      <td>40</td>\n",
       "      <td>80000</td>\n",
       "      <td>2018-11-05</td>\n",
       "      <td>Finance</td>\n",
       "    </tr>\n",
       "  </tbody>\n",
       "</table>\n",
       "</div>"
      ],
      "text/plain": [
       "      Name Age  Salary JoiningDate Department\n",
       "0    Alice  25   50000  2020-01-15         HR\n",
       "1      Bob  30   60000  2019-07-23    Finance\n",
       "2  Charlie  35   70000  2021-03-10         IT\n",
       "3    David  40   80000  2018-11-05    Finance"
      ]
     },
     "execution_count": 1,
     "metadata": {},
     "output_type": "execute_result"
    }
   ],
   "source": [
    "import pandas as pd\n",
    "\n",
    "data = {\n",
    "    'Name': ['Alice', 'Bob', 'Charlie', 'David'],\n",
    "    'Age': ['25', '30', '35', '40'],    # stored as strings\n",
    "    'Salary': [50000, 60000, 70000, 80000],  # numeric\n",
    "    'JoiningDate': ['2020-01-15', '2019-07-23', '2021-03-10', '2018-11-05'],  # should be datetime\n",
    "    'Department': ['HR', 'Finance', 'IT', 'Finance'],  # can be category\n",
    "}\n",
    "\n",
    "df = pd.DataFrame(data)\n",
    "df"
   ]
  },
  {
   "cell_type": "code",
   "execution_count": null,
   "id": "8e90d50b",
   "metadata": {},
   "outputs": [
    {
     "data": {
      "text/plain": [
       "Name           object\n",
       "Age            object\n",
       "Salary          int64\n",
       "JoiningDate    object\n",
       "Department     object\n",
       "dtype: object"
      ]
     },
     "execution_count": 2,
     "metadata": {},
     "output_type": "execute_result"
    }
   ],
   "source": [
    "df.dtypes"
   ]
  },
  {
   "cell_type": "markdown",
   "id": "03d1b5f3",
   "metadata": {},
   "source": [
    "##### conversion needed here \n",
    "- ```Age``` should be int64 for calc\n",
    "- ```JoiningDate``` should be datetime \n",
    "- ```Department``` should be category to save memory and for category bases ops"
   ]
  },
  {
   "cell_type": "markdown",
   "id": "bd839b81",
   "metadata": {},
   "source": [
    "---\n",
    "## Converting Data Types using ```astype()```"
   ]
  },
  {
   "cell_type": "code",
   "execution_count": null,
   "id": "0a6fa0ab",
   "metadata": {},
   "outputs": [
    {
     "name": "stdout",
     "output_type": "stream",
     "text": [
      "Index          132\n",
      "Name           216\n",
      "Age             16\n",
      "Salary          32\n",
      "JoiningDate    236\n",
      "Department     270\n",
      "dtype: int64\n"
     ]
    },
    {
     "data": {
      "text/plain": [
       "Name             object\n",
       "Age               int32\n",
       "Salary            int64\n",
       "JoiningDate      object\n",
       "Department     category\n",
       "dtype: object"
      ]
     },
     "execution_count": 6,
     "metadata": {},
     "output_type": "execute_result"
    }
   ],
   "source": [
    "# A) 'Age' from obj -> int\n",
    "\n",
    "df['Age'] = df['Age'].astype(int)  # converted it to int\n",
    "df.dtypes"
   ]
  },
  {
   "cell_type": "code",
   "execution_count": 8,
   "id": "5d593ad9",
   "metadata": {},
   "outputs": [
    {
     "data": {
      "text/plain": [
       "Name             object\n",
       "Age               int32\n",
       "Salary            int64\n",
       "JoiningDate      object\n",
       "Department     category\n",
       "dtype: object"
      ]
     },
     "execution_count": 8,
     "metadata": {},
     "output_type": "execute_result"
    }
   ],
   "source": [
    "# B) 'Department' -> category\n",
    "\n",
    "df['Department'] = df['Department'].astype('category')\n",
    "df.dtypes\n",
    "\n",
    "# print(df.memory_usage(deep=True)) = to see the reduced memoryusage"
   ]
  },
  {
   "cell_type": "code",
   "execution_count": 11,
   "id": "654f7197",
   "metadata": {},
   "outputs": [
    {
     "name": "stdout",
     "output_type": "stream",
     "text": [
      "0    2020\n",
      "1    2019\n",
      "2    2021\n",
      "3    2018\n",
      "Name: JoiningDate, dtype: int32\n",
      "0     1\n",
      "1     7\n",
      "2     3\n",
      "3    11\n",
      "Name: JoiningDate, dtype: int32\n",
      "0    Wednesday\n",
      "1      Tuesday\n",
      "2    Wednesday\n",
      "3       Monday\n",
      "Name: JoiningDate, dtype: object\n"
     ]
    }
   ],
   "source": [
    "df['JoiningDate'] = pd.to_datetime(df['JoiningDate'])   # special way\n",
    "df.dtypes\n",
    "\n",
    "print(df['JoiningDate'].dt.year)\n",
    "print(df['JoiningDate'].dt.month)\n",
    "print(df['JoiningDate'].dt.day_name())\n"
   ]
  },
  {
   "cell_type": "markdown",
   "id": "6e5af662",
   "metadata": {},
   "source": [
    "---\n",
    "## Handling Conversion Errors"
   ]
  },
  {
   "cell_type": "code",
   "execution_count": null,
   "id": "2ede9996",
   "metadata": {},
   "outputs": [],
   "source": [
    "df['Age'] = df['Age'].astype(int)  # may throw ValueError\n",
    "\n",
    "# errors='coerce' = this will convert the invalid parsing to NAN"
   ]
  },
  {
   "cell_type": "code",
   "execution_count": null,
   "id": "e46e7705",
   "metadata": {},
   "outputs": [
    {
     "data": {
      "text/plain": [
       "Name                   object\n",
       "Age                     int32\n",
       "Salary                  int64\n",
       "JoiningDate    datetime64[ns]\n",
       "Department           category\n",
       "dtype: object"
      ]
     },
     "execution_count": 14,
     "metadata": {},
     "output_type": "execute_result"
    }
   ],
   "source": [
    "df = df.infer_objects()\n",
    "df.dtypes  # tries to convert obj -> more specific dt like int, float"
   ]
  }
 ],
 "metadata": {
  "kernelspec": {
   "display_name": "base",
   "language": "python",
   "name": "python3"
  },
  "language_info": {
   "codemirror_mode": {
    "name": "ipython",
    "version": 3
   },
   "file_extension": ".py",
   "mimetype": "text/x-python",
   "name": "python",
   "nbconvert_exporter": "python",
   "pygments_lexer": "ipython3",
   "version": "3.12.7"
  }
 },
 "nbformat": 4,
 "nbformat_minor": 5
}
