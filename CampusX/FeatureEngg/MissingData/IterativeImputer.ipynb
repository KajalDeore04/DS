{
 "cells": [
  {
   "cell_type": "code",
   "execution_count": 29,
   "id": "0ed54544",
   "metadata": {},
   "outputs": [],
   "source": [
    "import numpy as np\n",
    "import pandas as pd\n",
    "# explicitly require this experimental feature\n",
    "from sklearn.experimental import enable_iterative_imputer  # noqa\n",
    "# now you can import normally from sklearn.impute\n",
    "from sklearn.impute import IterativeImputer\n",
    "\n",
    "from sklearn.linear_model import LinearRegression\n",
    "from sklearn.model_selection import train_test_split\n"
   ]
  },
  {
   "cell_type": "code",
   "execution_count": 30,
   "id": "2521dd23",
   "metadata": {},
   "outputs": [],
   "source": [
    "np.random.seed(42)\n",
    "\n",
    "# Example dataset\n",
    "data = pd.DataFrame({\n",
    "    \"Feature1\": np.random.randn(10),\n",
    "    \"Feature2\": np.random.randn(10),\n",
    "    \"Feature3\": np.random.randn(10)\n",
    "})\n",
    "\n",
    "# Introduce missing values\n",
    "data.loc[2, \"Feature1\"] = np.nan\n",
    "data.loc[5, \"Feature2\"] = np.nan\n",
    "data.loc[7, \"Feature3\"] = np.nan\n",
    "data.loc[9, \"Feature1\"] = np.nan\n"
   ]
  },
  {
   "cell_type": "markdown",
   "id": "c1c69145",
   "metadata": {},
   "source": [
    "# MICE (Multivariate Imputation by Chained Equation)"
   ]
  },
  {
   "cell_type": "markdown",
   "id": "1a187d2a",
   "metadata": {},
   "source": [
    "Types of Missing data patterns:\n",
    "1. MCAR : randomly missing. no way to know why\n",
    "2. MAR (Missing at random) : user didnt fill in the data. Hence it can be filled in with other columns values.\n",
    "3. MNAR (Missing not at random) : data has been purposely removed hence we cant predict the relation with other cols\n",
    "\n",
    "\n",
    "Above algo works great with MAR.\n",
    "- adv :  accurate\n",
    "- disadv : slow, and training data to be put on server"
   ]
  },
  {
   "cell_type": "markdown",
   "id": "e1afe68e",
   "metadata": {},
   "source": [
    "## Working"
   ]
  },
  {
   "cell_type": "markdown",
   "id": "e449fc8e",
   "metadata": {},
   "source": [
    "1. fill NAN with Mean of each col (Iteration 1)\n",
    "2. move from left col to right and replace tha mean value that we put with NAN (for the pred)\n",
    "3. Predict row-wise for each NAN (for the row which has no NAN will act as input for prediction, which will help predict the current NAN using its own row i.e. other cols). Any algo can be used LinearRegression, KNN, Dt\n",
    "4. Do it for each col one by one\n",
    "5. Take the Difference From Iteration 1 i.e. When we put fake mean and Iteration 1 i.e. predicted. (All the other values will be 0 except the where the NAN was)\n",
    "6. repeat above till that difference becomes 0 or max possible\n",
    "\n",
    "Flow :\n",
    "\n",
    "Fake Mean -> NAN -> predict -> difference -> Pass Pred1 ->  NAN -> predict -> difference ---->"
   ]
  },
  {
   "cell_type": "code",
   "execution_count": 31,
   "id": "ad3eaf8d",
   "metadata": {},
   "outputs": [
    {
     "name": "stdout",
     "output_type": "stream",
     "text": [
      "Original Data (with missing values):\n",
      "    Feature1  Feature2  Feature3\n",
      "0  0.496714 -0.463418  1.465649\n",
      "1 -0.138264 -0.465730 -0.225776\n",
      "2       NaN  0.241962  0.067528\n",
      "3  1.523030 -1.913280 -1.424748\n",
      "4 -0.234153 -1.724918 -0.544383\n",
      "5 -0.234137       NaN  0.110923\n",
      "6  1.579213 -1.012831 -1.150994\n",
      "7  0.767435  0.314247       NaN\n",
      "8 -0.469474 -0.908024 -0.600639\n",
      "9       NaN -1.412304 -0.291694\n"
     ]
    }
   ],
   "source": [
    "print(\"Original Data (with missing values):\\n\", data)"
   ]
  },
  {
   "cell_type": "code",
   "execution_count": 32,
   "id": "62f0d814",
   "metadata": {},
   "outputs": [],
   "source": [
    "# Step 3: Initialize Iterative Imputer with Linear Regression\n",
    "imputer = IterativeImputer(\n",
    "    estimator=LinearRegression(),\n",
    "    max_iter=10,\n",
    "    random_state=42\n",
    ")"
   ]
  },
  {
   "cell_type": "code",
   "execution_count": 33,
   "id": "262b0b94",
   "metadata": {},
   "outputs": [
    {
     "name": "stdout",
     "output_type": "stream",
     "text": [
      "\n",
      "Imputed Data (missing values filled):\n",
      "    Feature1  Feature2  Feature3\n",
      "0  0.496714 -0.463418  1.465649\n",
      "1 -0.138264 -0.465730 -0.225776\n",
      "2  0.463762  0.241962  0.067528\n",
      "3  1.523030 -1.913280 -1.424748\n",
      "4 -0.234153 -1.724918 -0.544383\n",
      "5 -0.234137 -0.668702  0.110923\n",
      "6  1.579213 -1.012831 -1.150994\n",
      "7  0.767435  0.314247  0.422611\n",
      "8 -0.469474 -0.908024 -0.600639\n",
      "9  0.343819 -1.412304 -0.291694\n"
     ]
    }
   ],
   "source": [
    "imputed_data = imputer.fit_transform(data)\n",
    "\n",
    "# Step 5: Convert back to DataFrame\n",
    "imputed_df = pd.DataFrame(imputed_data, columns=data.columns)\n",
    "\n",
    "print(\"\\nImputed Data (missing values filled):\\n\", imputed_df)"
   ]
  }
 ],
 "metadata": {
  "kernelspec": {
   "display_name": "base",
   "language": "python",
   "name": "python3"
  },
  "language_info": {
   "codemirror_mode": {
    "name": "ipython",
    "version": 3
   },
   "file_extension": ".py",
   "mimetype": "text/x-python",
   "name": "python",
   "nbconvert_exporter": "python",
   "pygments_lexer": "ipython3",
   "version": "3.12.7"
  }
 },
 "nbformat": 4,
 "nbformat_minor": 5
}
