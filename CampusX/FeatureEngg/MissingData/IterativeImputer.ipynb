{
 "cells": [
  {
   "cell_type": "code",
   "execution_count": 37,
   "id": "0ed54544",
   "metadata": {},
   "outputs": [],
   "source": [
    "import numpy as np\n",
    "import pandas as pd\n",
    "# explicitly require this experimental feature\n",
    "from sklearn.experimental import enable_iterative_imputer  # noqa\n",
    "# now you can import normally from sklearn.impute\n",
    "from sklearn.impute import IterativeImputer\n",
    "\n",
    "from sklearn.linear_model import LinearRegression\n",
    "from sklearn.model_selection import train_test_split\n"
   ]
  },
  {
   "cell_type": "code",
   "execution_count": 38,
   "id": "2521dd23",
   "metadata": {},
   "outputs": [],
   "source": [
    "np.random.seed(42)\n",
    "\n",
    "# Example dataset\n",
    "data = pd.DataFrame({\n",
    "    \"Feature1\": np.random.randn(10),\n",
    "    \"Feature2\": np.random.randn(10),\n",
    "    \"Feature3\": np.random.randn(10)\n",
    "})\n",
    "\n",
    "# Introduce missing values\n",
    "data.loc[2, \"Feature1\"] = np.nan\n",
    "data.loc[5, \"Feature2\"] = np.nan\n",
    "data.loc[7, \"Feature3\"] = np.nan\n",
    "data.loc[9, \"Feature1\"] = np.nan\n"
   ]
  },
  {
   "cell_type": "markdown",
   "id": "c1c69145",
   "metadata": {},
   "source": [
    "# MICE (Multivariate Imputation by Chained Equation)"
   ]
  },
  {
   "cell_type": "markdown",
   "id": "1a187d2a",
   "metadata": {},
   "source": [
    "Types of Missing data patterns:\n",
    "1. MCAR : randomly missing. no way to know why\n",
    "2. MAR (Missing at random) : user didnt fill in the data. Hence it can be filled in with other columns values.\n",
    "3. MNAR (Missing not at random) : data has been purposely removed hence we cant predict the relation with other cols\n",
    "\n",
    "\n",
    "Above algo works great with MAR.\n",
    "- adv :  accurate\n",
    "- disadv : slow, and training data to be put on server"
   ]
  },
  {
   "cell_type": "markdown",
   "id": "e1afe68e",
   "metadata": {},
   "source": [
    "## Working"
   ]
  },
  {
   "cell_type": "markdown",
   "id": "e449fc8e",
   "metadata": {},
   "source": [
    "1. fill NAN with Mean of each col (Iteration 1)\n",
    "2. move from left col to right and replace tha mean value that we put with NAN (for the pred)\n",
    "3. Predict row-wise for each NAN (for the row which has no NAN will act as input for prediction, which will help predict the current NAN using its own row i.e. other cols). Any algo can be used LinearRegression, KNN, Dt\n",
    "4. Do it for each col one by one\n",
    "5. Take the Difference From Iteration 1 i.e. When we put fake mean and Iteration 1 i.e. predicted. (All the other values will be 0 except the where the NAN was)\n",
    "6. repeat above till that difference becomes 0 or max possible\n",
    "\n",
    "Flow :\n",
    "\n",
    "Fake Mean -> NAN -> predict -> difference -> Pass Pred1 ->  NAN -> predict -> difference ---->"
   ]
  },
  {
   "cell_type": "code",
   "execution_count": 39,
   "id": "ad3eaf8d",
   "metadata": {},
   "outputs": [
    {
     "name": "stdout",
     "output_type": "stream",
     "text": [
      "Original Data (with missing values):\n",
      "    Feature1  Feature2  Feature3\n",
      "0  0.496714 -0.463418  1.465649\n",
      "1 -0.138264 -0.465730 -0.225776\n",
      "2       NaN  0.241962  0.067528\n",
      "3  1.523030 -1.913280 -1.424748\n",
      "4 -0.234153 -1.724918 -0.544383\n",
      "5 -0.234137       NaN  0.110923\n",
      "6  1.579213 -1.012831 -1.150994\n",
      "7  0.767435  0.314247       NaN\n",
      "8 -0.469474 -0.908024 -0.600639\n",
      "9       NaN -1.412304 -0.291694\n"
     ]
    }
   ],
   "source": [
    "print(\"Original Data (with missing values):\\n\", data)"
   ]
  },
  {
   "cell_type": "code",
   "execution_count": 40,
   "id": "62f0d814",
   "metadata": {},
   "outputs": [],
   "source": [
    "# Step 3: Initialize Iterative Imputer with Linear Regression\n",
    "imputer = IterativeImputer(\n",
    "    estimator=LinearRegression(),\n",
    "    max_iter=10,\n",
    "    random_state=42\n",
    ")"
   ]
  },
  {
   "cell_type": "code",
   "execution_count": 41,
   "id": "262b0b94",
   "metadata": {},
   "outputs": [
    {
     "name": "stdout",
     "output_type": "stream",
     "text": [
      "\n",
      "Imputed Data (missing values filled):\n",
      "    Feature1  Feature2  Feature3\n",
      "0  0.496714 -0.463418  1.465649\n",
      "1 -0.138264 -0.465730 -0.225776\n",
      "2  0.463762  0.241962  0.067528\n",
      "3  1.523030 -1.913280 -1.424748\n",
      "4 -0.234153 -1.724918 -0.544383\n",
      "5 -0.234137 -0.668702  0.110923\n",
      "6  1.579213 -1.012831 -1.150994\n",
      "7  0.767435  0.314247  0.422611\n",
      "8 -0.469474 -0.908024 -0.600639\n",
      "9  0.343819 -1.412304 -0.291694\n"
     ]
    }
   ],
   "source": [
    "imputed_data = imputer.fit_transform(data)\n",
    "\n",
    "# Step 5: Convert back to DataFrame\n",
    "imputed_df = pd.DataFrame(imputed_data, columns=data.columns)\n",
    "\n",
    "print(\"\\nImputed Data (missing values filled):\\n\", imputed_df)"
   ]
  },
  {
   "cell_type": "markdown",
   "id": "44712bd9",
   "metadata": {},
   "source": [
    "## Manual Background work"
   ]
  },
  {
   "cell_type": "code",
   "execution_count": 57,
   "id": "e4fc99f7",
   "metadata": {},
   "outputs": [],
   "source": [
    "data = pd.DataFrame({\n",
    "    \"A\": [150, 160, np.nan, 170, 180, np.nan, 200],\n",
    "    \"B\": [50, np.nan, 70, 80, np.nan, 100, 110],\n",
    "    \"C\": [20, 25, 30, np.nan, 40, 45, np.nan]\n",
    "})"
   ]
  },
  {
   "cell_type": "code",
   "execution_count": 58,
   "id": "a5de8011",
   "metadata": {},
   "outputs": [],
   "source": [
    "# 2. Simple loop to mimic iterative imputation\n",
    "data_copy = data.copy()"
   ]
  },
  {
   "cell_type": "code",
   "execution_count": 59,
   "id": "1328dea5",
   "metadata": {},
   "outputs": [
    {
     "name": "stdout",
     "output_type": "stream",
     "text": [
      "\n",
      "After initial mean imputation:\n",
      "        A      B     C\n",
      "0  150.0   50.0  20.0\n",
      "1  160.0   82.0  25.0\n",
      "2  172.0   70.0  30.0\n",
      "3  170.0   80.0  32.0\n",
      "4  180.0   82.0  40.0\n",
      "5  172.0  100.0  45.0\n",
      "6  200.0  110.0  32.0\n"
     ]
    },
    {
     "name": "stderr",
     "output_type": "stream",
     "text": [
      "C:\\Users\\91755\\AppData\\Local\\Temp\\ipykernel_19620\\548300929.py:4: FutureWarning: A value is trying to be set on a copy of a DataFrame or Series through chained assignment using an inplace method.\n",
      "The behavior will change in pandas 3.0. This inplace method will never work because the intermediate object on which we are setting values always behaves as a copy.\n",
      "\n",
      "For example, when doing 'df[col].method(value, inplace=True)', try using 'df.method({col: value}, inplace=True)' or df[col] = df[col].method(value) instead, to perform the operation inplace on the original object.\n",
      "\n",
      "\n",
      "  data_copy[col].fillna(data_copy[col].mean(), inplace=True)\n"
     ]
    }
   ],
   "source": [
    "# 2. Initialize missing values with column means (like IterativeImputer does initially)\n",
    "data_copy = data.copy()\n",
    "for col in data_copy.columns:\n",
    "    data_copy[col].fillna(data_copy[col].mean(), inplace=True)\n",
    "\n",
    "print(\"\\nAfter initial mean imputation:\\n\", data_copy)"
   ]
  },
  {
   "cell_type": "code",
   "execution_count": 62,
   "id": "d6686537",
   "metadata": {},
   "outputs": [
    {
     "name": "stdout",
     "output_type": "stream",
     "text": [
      "--------------\n",
      "\n",
      "Iteration 1\n",
      "  Checking column A, missing count = 2\n",
      "  Filled missing in column A with 2    165.226469\n",
      "5    188.066449\n",
      "Name: A, dtype: float64\n",
      "  Checking column B, missing count = 2\n",
      "  Filled missing in column B with 1    59.711062\n",
      "4    90.054859\n",
      "Name: B, dtype: float64\n",
      "  Checking column C, missing count = 2\n",
      "  Filled missing in column C with 3    34.842611\n",
      "6    50.239437\n",
      "Name: C, dtype: float64\n",
      "--------------\n",
      "\n",
      "Iteration 2\n",
      "  Checking column A, missing count = 2\n",
      "  Filled missing in column A with 2    165.226565\n",
      "5    188.066438\n",
      "Name: A, dtype: float64\n",
      "  Checking column B, missing count = 2\n",
      "  Filled missing in column B with 1    59.711066\n",
      "4    90.054857\n",
      "Name: B, dtype: float64\n",
      "  Checking column C, missing count = 2\n",
      "  Filled missing in column C with 3    34.842610\n",
      "6    50.239437\n",
      "Name: C, dtype: float64\n",
      "--------------\n",
      "\n",
      "Iteration 3\n",
      "  Checking column A, missing count = 2\n",
      "  Filled missing in column A with 2    165.226572\n",
      "5    188.066432\n",
      "Name: A, dtype: float64\n",
      "  Checking column B, missing count = 2\n",
      "  Filled missing in column B with 1    59.711067\n",
      "4    90.054857\n",
      "Name: B, dtype: float64\n",
      "  Checking column C, missing count = 2\n",
      "  Filled missing in column C with 3    34.842610\n",
      "6    50.239437\n",
      "Name: C, dtype: float64\n",
      "\n",
      "Data after manual iterative imputation:\n",
      "             A           B          C\n",
      "0  150.000000   50.000000  20.000000\n",
      "1  160.000000   59.711067  25.000000\n",
      "2  165.226572   70.000000  30.000000\n",
      "3  170.000000   80.000000  34.842610\n",
      "4  180.000000   90.054857  40.000000\n",
      "5  188.066432  100.000000  45.000000\n",
      "6  200.000000  110.000000  50.239437\n"
     ]
    }
   ],
   "source": [
    "for step in range(3):\n",
    "    print('--------------')\n",
    "    print(f\"\\nIteration {step+1}\")\n",
    "    \n",
    "    for col in data.columns:\n",
    "        miss = data[col].isnull()\n",
    "        print(f\"  Checking column {col}, missing count = {miss.sum()}\")\n",
    "        \n",
    "        if miss.sum() == 0:\n",
    "            continue  \n",
    "        \n",
    "        not_miss = ~miss\n",
    "        X_train = data_copy.loc[not_miss].drop(columns=[col])\n",
    "        y_train = data_copy.loc[not_miss, col]\n",
    "        X_pred = data_copy.loc[miss].drop(columns=[col])\n",
    "        \n",
    "        model = LinearRegression()\n",
    "        model.fit(X_train, y_train)\n",
    "        data_copy.loc[miss, col] = model.predict(X_pred)\n",
    "        \n",
    "        print(f\"  Filled missing in column {col} with {data_copy.loc[miss, col]}\")\n",
    "\n",
    "\n",
    "\n",
    "print(\"\\nData after manual iterative imputation:\\n\", data_copy)"
   ]
  }
 ],
 "metadata": {
  "kernelspec": {
   "display_name": "base",
   "language": "python",
   "name": "python3"
  },
  "language_info": {
   "codemirror_mode": {
    "name": "ipython",
    "version": 3
   },
   "file_extension": ".py",
   "mimetype": "text/x-python",
   "name": "python",
   "nbconvert_exporter": "python",
   "pygments_lexer": "ipython3",
   "version": "3.12.7"
  }
 },
 "nbformat": 4,
 "nbformat_minor": 5
}
